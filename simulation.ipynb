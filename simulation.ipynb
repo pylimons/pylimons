{
 "cells": [
  {
   "cell_type": "markdown",
   "id": "c1029c3e",
   "metadata": {},
   "source": [
    "# pylimons: Python Linac MOdeling aNd Simulation"
   ]
  },
  {
   "cell_type": "code",
   "execution_count": 10,
   "id": "a0f2304a",
   "metadata": {},
   "outputs": [],
   "source": [
    "import bunch\n",
    "import elements\n",
    "import utils"
   ]
  },
  {
   "cell_type": "code",
   "execution_count": null,
   "id": "3d0b4d95-7616-46cd-ada9-30debb31eb47",
   "metadata": {},
   "outputs": [],
   "source": []
  }
 ],
 "metadata": {
  "kernelspec": {
   "display_name": "Python 3 (ipykernel)",
   "language": "python",
   "name": "python3"
  },
  "language_info": {
   "codemirror_mode": {
    "name": "ipython",
    "version": 3
   },
   "file_extension": ".py",
   "mimetype": "text/x-python",
   "name": "python",
   "nbconvert_exporter": "python",
   "pygments_lexer": "ipython3",
   "version": "3.9.13"
  }
 },
 "nbformat": 4,
 "nbformat_minor": 5
}
