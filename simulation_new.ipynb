{
 "cells": [
  {
   "cell_type": "code",
   "execution_count": 1,
   "id": "817261a0-5103-40ab-8313-6980cb431d7e",
   "metadata": {},
   "outputs": [],
   "source": [
    "import numpy as np\n",
    "from matplotlib import pyplot as plt\n",
    "import tables\n",
    "tables.file._open_files.close_all()"
   ]
  },
  {
   "cell_type": "markdown",
   "id": "297e81de-f683-4209-874c-afeaa18e55c8",
   "metadata": {},
   "source": [
    "## Random Seed"
   ]
  },
  {
   "cell_type": "code",
   "execution_count": 2,
   "id": "de3654fd-d387-4df4-a717-b33be6e5c9bd",
   "metadata": {
    "tags": []
   },
   "outputs": [],
   "source": [
    "from elements import *\n",
    "from beamline import Beamline\n",
    "from beam import Bunch"
   ]
  },
  {
   "cell_type": "code",
   "execution_count": 3,
   "id": "bfc66e93-5730-47a5-99e3-c47367961f31",
   "metadata": {},
   "outputs": [],
   "source": [
    "twiss_x = [-1.5, 10, 10e-6]\n",
    "twiss_y = [1.5, 10, 10e-6]"
   ]
  },
  {
   "cell_type": "code",
   "execution_count": 4,
   "id": "36fa9e51-87a8-4d50-9784-55374b2da759",
   "metadata": {},
   "outputs": [],
   "source": [
    "bunch = Bunch('electron', 10, 4, 10, twiss_x, twiss_y, seed=1314)\n",
    "particles = bunch.generate_transverse_matched_beam_distribution()\n",
    "x = particles[0, :]\n",
    "xp = particles[1, :]"
   ]
  },
  {
   "cell_type": "code",
   "execution_count": 5,
   "id": "0add0cf0-1bc1-4c70-8f20-a171e59ca1b6",
   "metadata": {},
   "outputs": [],
   "source": [
    "bunch2 = Bunch('electron', 10, 4, 10, twiss_x, twiss_y, seed=1314)\n",
    "particles2 = bunch2.generate_transverse_matched_beam_distribution()\n",
    "nx = particles2[0,:]\n",
    "nxp = particles2[1,:]"
   ]
  },
  {
   "cell_type": "code",
   "execution_count": 6,
   "id": "9e06cf06-d7ed-41aa-98f9-94e4cae4ad85",
   "metadata": {},
   "outputs": [
    {
     "name": "stdout",
     "output_type": "stream",
     "text": [
      "[-0.00230171 -0.02934405  0.01082525 -0.00523984  0.01217208 -0.00271024\n",
      " -0.00388655  0.00083462  0.00353221  0.01065466]\n",
      "[-0.00241987 -0.03085037  0.01138095 -0.00550882  0.01279691 -0.00284937\n",
      " -0.00408606  0.00087746  0.00371353  0.0112016 ]\n"
     ]
    }
   ],
   "source": [
    "print (x)\n",
    "print (nx)"
   ]
  },
  {
   "cell_type": "code",
   "execution_count": 7,
   "id": "f0b3b9cb-65ef-4bc8-b58e-a71a14bd150b",
   "metadata": {},
   "outputs": [
    {
     "data": {
      "image/png": "[encoded data removed]",
      "text/plain": [
       "<Figure size 800x800 with 3 Axes>"
      ]
     },
     "metadata": {},
     "output_type": "display_data"
    }
   ],
   "source": [
    "fig = plt.figure(figsize=(8,8))\n",
    "\n",
    "grid = plt.GridSpec(4, 4, hspace=0.2, wspace=0.2)\n",
    "main_ax = fig.add_subplot(grid[1:,:3])\n",
    "x_hist = fig.add_subplot(grid[0,:3], yticklabels=[], sharex=main_ax)\n",
    "y_hist = fig.add_subplot(grid[1:,3], xticklabels=[], sharey=main_ax)\n",
    "\n",
    "# scatter points on the main axes\n",
    "main_ax.scatter(x*1e3, xp*1e3, s=1)#, 'ob', markersize=3, alpha=0.2)\n",
    "main_ax.scatter(nx*1e3, nxp*1e3, s=1, c='r')#, 'ob', markersize=3, alpha=0.2)\n",
    "main_ax.set_xlabel(r'$x$ (mm)', fontsize=30)\n",
    "main_ax.set_ylabel(r'$x^{\\prime}$ (mrad)', fontsize=30)\n",
    "main_ax.grid()\n",
    "\n",
    "# histogram on the attached axes\n",
    "x_hist.hist(x*1e3, 100, histtype='step', orientation='vertical', color='b')\n",
    "y_hist.hist(xp*1e3, 100, histtype='step', orientation='horizontal', color='b')\n",
    "\n",
    "x_hist.hist(nx*1e3, 100, histtype='step', orientation='vertical', color='r')\n",
    "y_hist.hist(nxp*1e3, 100, histtype='step', orientation='horizontal', color='r')\n",
    "        \n",
    "plt.show()"
   ]
  },
  {
   "cell_type": "markdown",
   "id": "32eb9bdb-13b5-4573-80f3-cb0bd6c0a2ba",
   "metadata": {},
   "source": [
    "## Update Twiss Parameters"
   ]
  },
  {
   "cell_type": "code",
   "execution_count": 8,
   "id": "f4841469-bf97-4ad2-a3d1-f6557d6c375f",
   "metadata": {
    "tags": []
   },
   "outputs": [],
   "source": [
    "d1 = Drift(\"d1\", \"drift\", 5, aperture=['circular', 1e-1])\n",
    "qf = Quadrupole(\"qf\", \"quadrupole\", 0.4, 1.2, aperture=['circular', 5e-2])\n",
    "qd = Quadrupole(\"qd\", \"quadrupole\", 0.4, -1.2, aperture=['circular', 5e-2])\n",
    "m1 = Marker(\"m1\", \"marker\", aperture=['circular', 1e-1])"
   ]
  },
  {
   "cell_type": "code",
   "execution_count": 9,
   "id": "b2815325-dea3-4f2f-b39f-c310fb342fd3",
   "metadata": {},
   "outputs": [],
   "source": [
    "fodo_list = [qf, d1, qd, d1, m1]"
   ]
  },
  {
   "cell_type": "code",
   "execution_count": 10,
   "id": "e4d3763c-a3e1-4cc2-9800-bf03436026ed",
   "metadata": {},
   "outputs": [],
   "source": [
    "fodo = Beamline(\"fodo\", fodo_list)"
   ]
  },
  {
   "cell_type": "code",
   "execution_count": 11,
   "id": "b374fd28-78a1-425f-8bef-36a5e115c5f7",
   "metadata": {},
   "outputs": [
    {
     "data": {
      "text/plain": [
       "5"
      ]
     },
     "execution_count": 11,
     "metadata": {},
     "output_type": "execute_result"
    }
   ],
   "source": [
    "fodo.get_num_beamline_elements()"
   ]
  },
  {
   "cell_type": "code",
   "execution_count": 12,
   "id": "8a3added-d1db-4b3e-bb7f-f43bc301beca",
   "metadata": {},
   "outputs": [
    {
     "name": "stdout",
     "output_type": "stream",
     "text": [
      "   qf quadrupole  0.400  1.200  0.400\n",
      "   d1      drift  5.000  0.000  5.400\n",
      "   qd quadrupole  0.400 -1.200  5.800\n",
      "   d1      drift  5.000  0.000 10.800\n",
      "   m1     marker  0.000  0.000 10.800\n"
     ]
    }
   ],
   "source": [
    "fodo.print_beamline()"
   ]
  },
  {
   "cell_type": "code",
   "execution_count": 13,
   "id": "44149ff8-19ef-4630-90d3-45881b62d3d7",
   "metadata": {},
   "outputs": [],
   "source": [
    "twiss_x = [-1.5, 10, 10e-6]\n",
    "twiss_y = [1.5, 10, 10e-6]\n",
    "\n",
    "bunch = Bunch('electron', 10, 4, 10000, twiss_x, twiss_y)"
   ]
  },
  {
   "cell_type": "code",
   "execution_count": 14,
   "id": "3d29256a-b722-47ee-b5c8-b2383bed441b",
   "metadata": {},
   "outputs": [],
   "source": [
    "particles = bunch.generate_transverse_matched_beam_distribution()\n",
    "x = particles[0, :]\n",
    "xp = particles[1, :]\n",
    "y = particles[2, :]"
   ]
  },
  {
   "cell_type": "code",
   "execution_count": 15,
   "id": "dbbf97a6-19c0-4600-81d2-d1c2ebedf3cf",
   "metadata": {},
   "outputs": [
    {
     "data": {
      "text/plain": [
       "[-1.5, 10, 9.985965722173286e-06]"
      ]
     },
     "execution_count": 15,
     "metadata": {},
     "output_type": "execute_result"
    }
   ],
   "source": [
    "bunch.twiss_x"
   ]
  },
  {
   "cell_type": "code",
   "execution_count": 16,
   "id": "80288697-7f0f-431a-8183-99dc35e02b4f",
   "metadata": {},
   "outputs": [
    {
     "name": "stdout",
     "output_type": "stream",
     "text": [
      "number of macro particles : 10000\n",
      "beta_x                    : 10 m\n",
      "alpha_x                   : -1.5 m^(1/2)\n",
      "emittance_x               : 9.985965722173286e-06 mm-mrad\n",
      "beta_y                    : 10 m\n",
      "alpha_y                   : 1.5 m^(1/2)\n",
      "emittance_y               : 1.0168354826394244e-05 mm-mrad\n",
      "\n",
      "particle species          : electron\n",
      "particle charge           : -1\n",
      "particle mass             : 0.51099895 MeV/c^2\n",
      "particle energy           : 10 MeV\n",
      "particle momentum         : 9.98693546955716 MeV/c\n",
      "particle gamma            : 20.569511835591836\n",
      "particle beta             : 0.9988175606506312\n",
      "particle s                : 0\n"
     ]
    }
   ],
   "source": [
    "bunch.print_bunch_properties()"
   ]
  },
  {
   "cell_type": "code",
   "execution_count": 17,
   "id": "996669c2-62e0-4a3c-beec-dd5e49e821d0",
   "metadata": {
    "tags": []
   },
   "outputs": [
    {
     "name": "stdout",
     "output_type": "stream",
     "text": [
      "         0         qf quadrupole    0.40000    0.40000      10000/     10000    9.98597   10.16835\n",
      "         1         d1      drift    5.00000    5.40000       9997/     10000    9.98386   10.14930\n",
      "         2         qd quadrupole    0.40000    5.80000       9349/     10000    9.91710    8.63392\n",
      "         3         d1      drift    5.00000   10.80000       8943/     10000    8.80483    8.64764\n",
      "         4         m1     marker    0.00000   10.80000       8943/     10000    8.80483    8.64764\n"
     ]
    }
   ],
   "source": [
    "fodo.propagate_beamline(bunch)"
   ]
  },
  {
   "cell_type": "code",
   "execution_count": 18,
   "id": "e165958f-59a3-4ba7-8914-ecddd0083432",
   "metadata": {},
   "outputs": [
    {
     "name": "stdout",
     "output_type": "stream",
     "text": [
      "number of macro particles : 8943\n",
      "beta_x                    : 244.02683540767742 m\n",
      "alpha_x                   : -38.42939226775982 m^(1/2)\n",
      "emittance_x               : 8.804830096445004e-06 mm-mrad\n",
      "beta_y                    : 48.813709554289034 m\n",
      "alpha_y                   : -21.33254176263737 m^(1/2)\n",
      "emittance_y               : 8.647638673306817e-06 mm-mrad\n",
      "\n",
      "particle species          : electron\n",
      "particle charge           : -1\n",
      "particle mass             : 0.51099895 MeV/c^2\n",
      "particle energy           : 10 MeV\n",
      "particle momentum         : 9.98693546955716 MeV/c\n",
      "particle gamma            : 20.569511835591836\n",
      "particle beta             : 0.9988175606506312\n",
      "particle s                : 10.8\n"
     ]
    }
   ],
   "source": [
    "bunch.print_bunch_properties()"
   ]
  },
  {
   "cell_type": "code",
   "execution_count": 19,
   "id": "2441f918-24da-4a3e-9dae-54970021436f",
   "metadata": {},
   "outputs": [],
   "source": [
    "new_particles = bunch.state\n",
    "nx = new_particles[0,:]\n",
    "nxp = new_particles[1,:]\n",
    "ny = new_particles[2,:]"
   ]
  },
  {
   "cell_type": "code",
   "execution_count": 20,
   "id": "e4f56af0-5a27-4f87-a979-3b205cc026b2",
   "metadata": {},
   "outputs": [
    {
     "name": "stdout",
     "output_type": "stream",
     "text": [
      "number of macro particles : 8943\n",
      "beta_x                    : 244.02683540767742 m\n",
      "alpha_x                   : -38.42939226775982 m^(1/2)\n",
      "emittance_x               : 8.804830096445004e-06 mm-mrad\n",
      "beta_y                    : 48.813709554289034 m\n",
      "alpha_y                   : -21.33254176263737 m^(1/2)\n",
      "emittance_y               : 8.647638673306817e-06 mm-mrad\n",
      "\n",
      "particle species          : electron\n",
      "particle charge           : -1\n",
      "particle mass             : 0.51099895 MeV/c^2\n",
      "particle energy           : 10 MeV\n",
      "particle momentum         : 9.98693546955716 MeV/c\n",
      "particle gamma            : 20.569511835591836\n",
      "particle beta             : 0.9988175606506312\n",
      "particle s                : 10.8\n"
     ]
    }
   ],
   "source": [
    "bunch.print_bunch_properties()"
   ]
  },
  {
   "cell_type": "code",
   "execution_count": 21,
   "id": "f708b963-5886-487c-bfaa-ae24d079c699",
   "metadata": {},
   "outputs": [
    {
     "data": {
      "image/png": "[encoded data removed]",
      "text/plain": [
       "<Figure size 800x800 with 3 Axes>"
      ]
     },
     "metadata": {},
     "output_type": "display_data"
    }
   ],
   "source": [
    "fig = plt.figure(figsize=(8,8))\n",
    "\n",
    "grid = plt.GridSpec(4, 4, hspace=0.2, wspace=0.2)\n",
    "main_ax = fig.add_subplot(grid[1:,:3])\n",
    "x_hist = fig.add_subplot(grid[0,:3], yticklabels=[], sharex=main_ax)\n",
    "y_hist = fig.add_subplot(grid[1:,3], xticklabels=[], sharey=main_ax)\n",
    "\n",
    "# scatter points on the main axes\n",
    "main_ax.scatter(x*1e3, xp*1e3, s=1)#, 'ob', markersize=3, alpha=0.2)\n",
    "main_ax.scatter(nx*1e3, nxp*1e3, s=1, c='r')#, 'ob', markersize=3, alpha=0.2)\n",
    "main_ax.set_xlabel(r'$x$ (mm)', fontsize=30)\n",
    "main_ax.set_ylabel(r'$x^{\\prime}$ (mrad)', fontsize=30)\n",
    "main_ax.grid()\n",
    "\n",
    "# histogram on the attached axes\n",
    "x_hist.hist(x*1e3, 100, histtype='step', orientation='vertical', color='b')\n",
    "y_hist.hist(xp*1e3, 100, histtype='step', orientation='horizontal', color='b')\n",
    "\n",
    "x_hist.hist(nx*1e3, 100, histtype='step', orientation='vertical', color='r')\n",
    "y_hist.hist(nxp*1e3, 100, histtype='step', orientation='horizontal', color='r')\n",
    "        \n",
    "plt.show()"
   ]
  },
  {
   "cell_type": "code",
   "execution_count": 22,
   "id": "75c53301-5a62-4b05-987b-2b8a18964966",
   "metadata": {
    "tags": []
   },
   "outputs": [
    {
     "data": {
      "image/png": "[encoded data removed]",
      "text/plain": [
       "<Figure size 800x800 with 3 Axes>"
      ]
     },
     "metadata": {},
     "output_type": "display_data"
    }
   ],
   "source": [
    "fig = plt.figure(figsize=(8,8))\n",
    "\n",
    "grid = plt.GridSpec(4, 4, hspace=0.2, wspace=0.2)\n",
    "main_ax = fig.add_subplot(grid[1:,:3])\n",
    "x_hist = fig.add_subplot(grid[0,:3], yticklabels=[], sharex=main_ax)\n",
    "y_hist = fig.add_subplot(grid[1:,3], xticklabels=[], sharey=main_ax)\n",
    "\n",
    "# scatter points on the main axes\n",
    "main_ax.scatter(x, y, s=1)#, 'ob', markersize=3, alpha=0.2)\n",
    "main_ax.scatter(nx, ny, s=1, c='r')#, 'ob', markersize=3, alpha=0.2)\n",
    "main_ax.set_xlabel(r'$x$', fontsize=30)\n",
    "main_ax.set_ylabel(r'$y$', fontsize=30)\n",
    "main_ax.grid()\n",
    "\n",
    "# histogram on the attached axes\n",
    "x_hist.hist(x, 100, histtype='step', orientation='vertical', color='b')\n",
    "y_hist.hist(y, 100, histtype='step', orientation='horizontal', color='b')\n",
    "\n",
    "x_hist.hist(nx, 100, histtype='step', orientation='vertical', color='r')\n",
    "y_hist.hist(ny, 100, histtype='step', orientation='horizontal', color='r')\n",
    "        \n",
    "plt.show()"
   ]
  },
  {
   "cell_type": "markdown",
   "id": "45030197-704c-4b1c-89d4-43b3ea4ce253",
   "metadata": {},
   "source": [
    "## Diagnostics"
   ]
  },
  {
   "cell_type": "markdown",
   "id": "c2f0523f-8074-4f1a-82d9-064196cb71c3",
   "metadata": {},
   "source": [
    "### Particle Diagnostics"
   ]
  },
  {
   "cell_type": "code",
   "execution_count": 23,
   "id": "1d685eac-d377-47ee-8b20-53459a623fb5",
   "metadata": {},
   "outputs": [],
   "source": [
    "import tables\n",
    "import numpy as np\n",
    "import os\n",
    "from matplotlib import pyplot as plt"
   ]
  },
  {
   "cell_type": "code",
   "execution_count": 24,
   "id": "0e0383ff-f253-4173-9b56-7f046f9fa8c7",
   "metadata": {},
   "outputs": [],
   "source": [
    "from elements import *\n",
    "from beamline import Beamline\n",
    "from beam import Bunch\n",
    "from utils import diagnostics"
   ]
  },
  {
   "cell_type": "code",
   "execution_count": 25,
   "id": "9b01bf48-fadd-4ab9-a713-a7204b620aaf",
   "metadata": {},
   "outputs": [],
   "source": [
    "twiss_x = [-1.5, 10, 10e-6]\n",
    "twiss_y = [1.5, 10, 10e-6]\n",
    "\n",
    "bunch = Bunch('electron', 10, 4, 10000, twiss_x, twiss_y)"
   ]
  },
  {
   "cell_type": "code",
   "execution_count": 26,
   "id": "fbbcf6a2-33d6-423c-bd0c-b878f293be44",
   "metadata": {},
   "outputs": [],
   "source": [
    "particles = bunch.generate_transverse_matched_beam_distribution()"
   ]
  },
  {
   "cell_type": "code",
   "execution_count": 27,
   "id": "dedddf71-105f-40d9-96db-c51451cbae59",
   "metadata": {},
   "outputs": [],
   "source": [
    "if os.path.exists(\"particle.h5\"):\n",
    "    os.remove(\"particle.h5\")"
   ]
  },
  {
   "cell_type": "code",
   "execution_count": 28,
   "id": "45e699f0-ad82-4605-af42-239097f5feaa",
   "metadata": {},
   "outputs": [],
   "source": [
    "pdiagnostics = diagnostics.Particle_diagnostics(\"particle.h5\")"
   ]
  },
  {
   "cell_type": "code",
   "execution_count": 29,
   "id": "ca235ed8-e3ee-4167-a6f6-d376347a4c76",
   "metadata": {},
   "outputs": [],
   "source": [
    "pdiagnostics.save_particle_diagnostics(bunch.particle)"
   ]
  },
  {
   "cell_type": "code",
   "execution_count": 30,
   "id": "55b7d5dd-ce1a-48ec-9d8e-05fe35dc6122",
   "metadata": {},
   "outputs": [],
   "source": [
    "h5file = tables.open_file(\"particle.h5\")"
   ]
  },
  {
   "cell_type": "code",
   "execution_count": 31,
   "id": "1e3b4792-7d1a-4fbd-a124-df06cfe5c763",
   "metadata": {},
   "outputs": [
    {
     "data": {
      "text/plain": [
       "/particle (Group) 'particle data'\n",
       "  children := ['beta' (Array), 'charge' (Array), 'energy' (Array), 'gamma' (Array), 'mass' (Array), 'momentum' (Array), 'species' (Array)]"
      ]
     },
     "execution_count": 31,
     "metadata": {},
     "output_type": "execute_result"
    }
   ],
   "source": [
    "h5file.root.particle"
   ]
  },
  {
   "cell_type": "code",
   "execution_count": 32,
   "id": "d3c37365-e296-4941-8cf1-a2d78fe3c385",
   "metadata": {},
   "outputs": [
    {
     "name": "stdout",
     "output_type": "stream",
     "text": [
      "      beta    0.99882\n",
      "    charge   -1.00000\n",
      "    energy   10.00000\n",
      "     gamma   20.56951\n",
      "      mass    0.51100\n",
      "  momentum    9.98694\n",
      "   species   electron\n"
     ]
    }
   ],
   "source": [
    "for i in h5file.root.particle:\n",
    "    if i.name == \"species\":\n",
    "        print (\"%10s %10s\" % (i.name, i.read()[0].decode('ASCII')))\n",
    "    else:\n",
    "        print (\"%10s %10.5f\" % (i.name, i.read()))"
   ]
  },
  {
   "cell_type": "code",
   "execution_count": 33,
   "id": "1dac67ee-a307-4e71-8fb9-586321ced253",
   "metadata": {},
   "outputs": [],
   "source": [
    "h5file.close()"
   ]
  },
  {
   "cell_type": "markdown",
   "id": "94672777-fad5-442a-8996-df40b3b6ee91",
   "metadata": {},
   "source": [
    "### Bunch Diagnostics"
   ]
  },
  {
   "cell_type": "code",
   "execution_count": 34,
   "id": "2fd8f5fc-86a3-4be6-a69b-c3886c1e06a1",
   "metadata": {},
   "outputs": [],
   "source": [
    "if os.path.exists(\"bunch.h5\"):\n",
    "    os.remove(\"bunch.h5\")"
   ]
  },
  {
   "cell_type": "code",
   "execution_count": 35,
   "id": "0a7c5134-e5e8-4476-ac12-8df1317b5589",
   "metadata": {
    "tags": []
   },
   "outputs": [],
   "source": [
    "bdiagnostics = diagnostics.Bunch_diagnostics(\"bunch.h5\")"
   ]
  },
  {
   "cell_type": "code",
   "execution_count": 36,
   "id": "4b7841c8-6e9b-4e0e-9686-cd4185daece6",
   "metadata": {},
   "outputs": [],
   "source": [
    "bdiagnostics.save_bunch_diagnostics(bunch)"
   ]
  },
  {
   "cell_type": "code",
   "execution_count": 37,
   "id": "277d851e-013d-4d26-b2e3-b6fcc0934d64",
   "metadata": {},
   "outputs": [],
   "source": [
    "h5file = tables.open_file(\"bunch.h5\")"
   ]
  },
  {
   "cell_type": "code",
   "execution_count": 38,
   "id": "ce9f784a-6600-4665-9c6b-359df0e39d9f",
   "metadata": {},
   "outputs": [
    {
     "data": {
      "text/plain": [
       "/ (RootGroup) 'Bunch Data'\n",
       "  children := ['diagnostics' (Group), 'twiss' (Group), 'particles' (Array)]"
      ]
     },
     "execution_count": 38,
     "metadata": {},
     "output_type": "execute_result"
    }
   ],
   "source": [
    "h5file.root"
   ]
  },
  {
   "cell_type": "code",
   "execution_count": 39,
   "id": "2aefc9d5-08da-4e25-b42b-2f81598499f4",
   "metadata": {},
   "outputs": [
    {
     "data": {
      "text/plain": [
       "array([[-0.00361816, -0.01271999, -0.00917978, ..., -0.00391737,\n",
       "         0.003651  , -0.00010699],\n",
       "       [-0.00014591, -0.00222979, -0.0006419 , ..., -0.00153368,\n",
       "        -0.00012179, -0.00017326],\n",
       "       [-0.00912413,  0.00713014, -0.02145721, ..., -0.00085271,\n",
       "        -0.00056768,  0.00256279],\n",
       "       [ 0.00090529, -0.00066106,  0.00497279, ...,  0.00166127,\n",
       "         0.00029613, -0.00089188]])"
      ]
     },
     "execution_count": 39,
     "metadata": {},
     "output_type": "execute_result"
    }
   ],
   "source": [
    "h5file.root.particles.read()"
   ]
  },
  {
   "cell_type": "code",
   "execution_count": 40,
   "id": "333428fa-1cba-48bb-955e-0d7bde3d71f3",
   "metadata": {},
   "outputs": [
    {
     "data": {
      "text/plain": [
       "/diagnostics (Group) 'Bunch diagnostics data'\n",
       "  children := ['num_particles' (Array), 'std_x' (Array), 'std_xp' (Array), 'std_y' (Array), 'std_yp' (Array)]"
      ]
     },
     "execution_count": 40,
     "metadata": {},
     "output_type": "execute_result"
    }
   ],
   "source": [
    "h5file.root.diagnostics"
   ]
  },
  {
   "cell_type": "code",
   "execution_count": 41,
   "id": "36487c46-1e93-4ee3-a78e-774a88a837a5",
   "metadata": {},
   "outputs": [
    {
     "name": "stdout",
     "output_type": "stream",
     "text": [
      "num_particles 10000.00000\n",
      "       std_x    0.00997\n",
      "      std_xp    0.00179\n",
      "       std_y    0.01002\n",
      "      std_yp    0.00182\n"
     ]
    }
   ],
   "source": [
    "for i in h5file.root.diagnostics:\n",
    "    print (\"%12s %10.5f\" % (i.name, i.read()))"
   ]
  },
  {
   "cell_type": "code",
   "execution_count": 42,
   "id": "33526e1f-8c24-4315-a1b7-9459a423bf98",
   "metadata": {},
   "outputs": [
    {
     "data": {
      "text/plain": [
       "/twiss (Group) 'Twiss data'\n",
       "  children := ['alpha_x' (Array), 'alpha_y' (Array), 'beta_x' (Array), 'beta_y' (Array), 'emit_x' (Array), 'emit_y' (Array)]"
      ]
     },
     "execution_count": 42,
     "metadata": {},
     "output_type": "execute_result"
    }
   ],
   "source": [
    "h5file.root.twiss"
   ]
  },
  {
   "cell_type": "code",
   "execution_count": 43,
   "id": "4425f327-4b65-4d6d-9343-8cc7b77eaa76",
   "metadata": {},
   "outputs": [
    {
     "name": "stdout",
     "output_type": "stream",
     "text": [
      "     alpha_x   -1.50000\n",
      "     alpha_y    1.50000\n",
      "      beta_x   10.00000\n",
      "      beta_y   10.00000\n",
      "      emit_x    0.00001\n",
      "      emit_y    0.00001\n"
     ]
    }
   ],
   "source": [
    "for i in h5file.root.twiss:\n",
    "    print (\"%12s %10.5f\" % (i.name, i.read()))"
   ]
  },
  {
   "cell_type": "code",
   "execution_count": 44,
   "id": "f7d2e803-c23f-4e7c-8a76-18a0e1df98a8",
   "metadata": {},
   "outputs": [],
   "source": [
    "h5file.close()"
   ]
  },
  {
   "cell_type": "markdown",
   "id": "e9acb4a1-d0c7-4c18-a142-eea9cbf2196a",
   "metadata": {},
   "source": [
    "## Beamline Diagnostics"
   ]
  },
  {
   "cell_type": "code",
   "execution_count": 45,
   "id": "db1f3b41-9d10-47ec-b565-850305e6e632",
   "metadata": {},
   "outputs": [],
   "source": [
    "from elements import *\n",
    "from beamline import Beamline\n",
    "from beam import Bunch\n",
    "from matplotlib import pyplot as plt\n",
    "from utils import diagnostics\n",
    "import os\n",
    "from tables import *"
   ]
  },
  {
   "cell_type": "code",
   "execution_count": 46,
   "id": "6848fafa-33e6-445a-8c76-6eef7da53b3c",
   "metadata": {},
   "outputs": [],
   "source": [
    "if os.path.exists(\"beamline.h5\"):\n",
    "    os.remove(\"beamline.h5\")"
   ]
  },
  {
   "cell_type": "code",
   "execution_count": 47,
   "id": "9c18105a-f525-4da7-b741-9244e8b96f3a",
   "metadata": {},
   "outputs": [],
   "source": [
    "twiss_x = [-1.5, 10, 10e-6]\n",
    "twiss_y = [1.5, 10, 10e-6]\n",
    "\n",
    "bunch = Bunch('electron', 10, 4, 10000, twiss_x, twiss_y, seed=24289)"
   ]
  },
  {
   "cell_type": "code",
   "execution_count": 48,
   "id": "ada1a83f-1aa8-4e3f-8757-729484a16e9e",
   "metadata": {},
   "outputs": [],
   "source": [
    "particles = bunch.generate_transverse_matched_beam_distribution()"
   ]
  },
  {
   "cell_type": "code",
   "execution_count": 49,
   "id": "dc40d2e6-01c8-4d69-b538-6e0b09f0b659",
   "metadata": {
    "tags": []
   },
   "outputs": [],
   "source": [
    "d1 = Drift(\"d1\", \"drift\", 5, aperture=['circular', 1e-1])\n",
    "b1 = Sbend(\"b1\", \"sbend\", 1.5, 22.5, aperture=['circular', 1e-1])\n",
    "qf = Quadrupole(\"qf\", \"quadrupole\", 0.4, 1.2, aperture=['circular', 1e-1])\n",
    "qd = Quadrupole(\"qd\", \"quadrupole\", 0.4, -1.2, aperture=['circular', 1e-1])\n",
    "m1 = Marker(\"m1\", \"marker\", aperture=['circular', 1e-1])"
   ]
  },
  {
   "cell_type": "code",
   "execution_count": 50,
   "id": "5e9806c9-243b-4d15-aede-b3fb7c2b95e4",
   "metadata": {},
   "outputs": [],
   "source": [
    "fodo_list = [qf, d1, b1, d1, qd, d1, b1, d1, m1]"
   ]
  },
  {
   "cell_type": "code",
   "execution_count": 51,
   "id": "12770fab-01f4-4a5d-b57b-b374afd65205",
   "metadata": {},
   "outputs": [],
   "source": [
    "fodo = Beamline(\"fodo\", fodo_list)"
   ]
  },
  {
   "cell_type": "code",
   "execution_count": 52,
   "id": "c21837ec-955e-425b-bded-588777e5dead",
   "metadata": {
    "tags": []
   },
   "outputs": [],
   "source": [
    "bldiagnostics = diagnostics.Beamline_diagnostics(\"beamline.h5\")"
   ]
  },
  {
   "cell_type": "code",
   "execution_count": 53,
   "id": "419714d4-59e3-4de8-bcaf-783009049671",
   "metadata": {},
   "outputs": [
    {
     "data": {
      "text/plain": [
       "<utils.diagnostics.Beamline_diagnostics at 0x7fbc87da4c70>"
      ]
     },
     "execution_count": 53,
     "metadata": {},
     "output_type": "execute_result"
    }
   ],
   "source": [
    "bldiagnostics"
   ]
  },
  {
   "cell_type": "code",
   "execution_count": 54,
   "id": "858097cc-0da2-44e1-9fc5-33d492fb70b1",
   "metadata": {},
   "outputs": [],
   "source": [
    "bldiagnostics.save_bunch_diagnostics(bunch)"
   ]
  },
  {
   "cell_type": "code",
   "execution_count": 55,
   "id": "3e6b0297-2e11-4903-ba14-6c41349ffb7a",
   "metadata": {},
   "outputs": [],
   "source": [
    "h5file = open_file(\"beamline.h5\")"
   ]
  },
  {
   "cell_type": "code",
   "execution_count": 56,
   "id": "28da5442-19e8-4be5-abfc-806ce21f29f0",
   "metadata": {},
   "outputs": [
    {
     "data": {
      "text/plain": [
       "/ (RootGroup) 'Beamline Data'\n",
       "  children := ['beamline' (Group), 'diagnostics' (Group), 'twiss' (Group)]"
      ]
     },
     "execution_count": 56,
     "metadata": {},
     "output_type": "execute_result"
    }
   ],
   "source": [
    "h5file.root"
   ]
  },
  {
   "cell_type": "code",
   "execution_count": 57,
   "id": "585bf27d-c9f2-4304-8040-b727d8b0c6ca",
   "metadata": {},
   "outputs": [
    {
     "data": {
      "text/plain": [
       "/beamline/s (EArray(1,)) ''\n",
       "  atom := Float64Atom(shape=(), dflt=0.0)\n",
       "  maindim := 0\n",
       "  flavor := 'numpy'\n",
       "  byteorder := 'little'\n",
       "  chunkshape := (8192,)"
      ]
     },
     "execution_count": 57,
     "metadata": {},
     "output_type": "execute_result"
    }
   ],
   "source": [
    "h5file.root.beamline.s"
   ]
  },
  {
   "cell_type": "code",
   "execution_count": 58,
   "id": "92fb84ab-f646-4939-b828-ec68d3f64df6",
   "metadata": {},
   "outputs": [
    {
     "name": "stdout",
     "output_type": "stream",
     "text": [
      "0.0\n"
     ]
    }
   ],
   "source": [
    "for i in h5file.root.beamline.s:\n",
    "    print (i)"
   ]
  },
  {
   "cell_type": "code",
   "execution_count": 59,
   "id": "0f284369-bc47-44ef-bc24-b2c493465979",
   "metadata": {},
   "outputs": [],
   "source": [
    "h5file.close()"
   ]
  },
  {
   "cell_type": "markdown",
   "id": "81271c37-fcab-4912-899b-2544f2796061",
   "metadata": {},
   "source": [
    "### Beamline Test"
   ]
  },
  {
   "cell_type": "code",
   "execution_count": 60,
   "id": "df32c4ee-e0fa-45c7-965d-a1a4015fb6da",
   "metadata": {},
   "outputs": [],
   "source": [
    "twiss_x = [-1.5, 10, 10e-6]\n",
    "twiss_y = [1.5, 10, 10e-6]\n",
    "\n",
    "bunch = Bunch('electron', 10, 4, 10000, twiss_x, twiss_y, seed=24289)"
   ]
  },
  {
   "cell_type": "code",
   "execution_count": 61,
   "id": "34afd5e6-4763-4466-883b-aab7b07fd7ae",
   "metadata": {},
   "outputs": [],
   "source": [
    "particles = bunch.generate_transverse_matched_beam_distribution()"
   ]
  },
  {
   "cell_type": "code",
   "execution_count": 62,
   "id": "b676cfdd-9136-499b-8976-1cedd17b1827",
   "metadata": {},
   "outputs": [],
   "source": [
    "fodo2 = Beamline(\"fodo\", fodo_list, True)"
   ]
  },
  {
   "cell_type": "code",
   "execution_count": 63,
   "id": "096405f6-62ae-4520-a652-eef888afbfaf",
   "metadata": {},
   "outputs": [
    {
     "name": "stdout",
     "output_type": "stream",
     "text": [
      "         0         qf quadrupole    0.40000    0.40000      10000/     10000   10.13482   10.16256\n",
      "         1         d1      drift    5.00000    5.40000       9999/     10000   10.13565   10.15543\n",
      "         2         b1      sbend    1.50000    6.90000       9982/     10000   10.13155   10.06206\n",
      "         3         d1      drift    5.00000   11.90000       9473/     10000    9.99433    8.81568\n",
      "         4         qd quadrupole    0.40000   12.30000       9467/     10000    9.95963    8.81422\n",
      "         5         d1      drift    5.00000   17.30000       5753/     10000    5.00914    7.78933\n",
      "         6         b1      sbend    1.50000   18.80000       4039/     10000    4.40140    5.60533\n",
      "         7         d1      drift    5.00000   23.80000       1848/     10000    3.74533    2.71287\n",
      "         8         m1     marker    0.00000   23.80000       1848/     10000    3.74533    2.71287\n"
     ]
    }
   ],
   "source": [
    "fodo2.propagate_beamline(bunch)"
   ]
  },
  {
   "cell_type": "code",
   "execution_count": 64,
   "id": "92830c56-433b-439f-84d8-4ba9f365fe51",
   "metadata": {},
   "outputs": [],
   "source": [
    "h5file = open_file(\"beamline.h5\")"
   ]
  },
  {
   "cell_type": "code",
   "execution_count": 65,
   "id": "965cc110-e18b-4a50-b1bd-a53cb4398d96",
   "metadata": {},
   "outputs": [
    {
     "data": {
      "text/plain": [
       "/ (RootGroup) 'Beamline Data'\n",
       "  children := ['beamline' (Group), 'diagnostics' (Group), 'twiss' (Group)]"
      ]
     },
     "execution_count": 65,
     "metadata": {},
     "output_type": "execute_result"
    }
   ],
   "source": [
    "h5file.root"
   ]
  },
  {
   "cell_type": "code",
   "execution_count": 66,
   "id": "58758178-e47f-43cb-b6f0-8a871d92c201",
   "metadata": {},
   "outputs": [
    {
     "data": {
      "text/plain": [
       "/beamline/s (EArray(11,)) ''\n",
       "  atom := Float64Atom(shape=(), dflt=0.0)\n",
       "  maindim := 0\n",
       "  flavor := 'numpy'\n",
       "  byteorder := 'little'\n",
       "  chunkshape := (8192,)"
      ]
     },
     "execution_count": 66,
     "metadata": {},
     "output_type": "execute_result"
    }
   ],
   "source": [
    "h5file.root.beamline.s"
   ]
  },
  {
   "cell_type": "code",
   "execution_count": 67,
   "id": "1450d5bb-071b-478f-b28e-6b2da4799cec",
   "metadata": {},
   "outputs": [
    {
     "name": "stdout",
     "output_type": "stream",
     "text": [
      "0.0\n",
      "0.0\n",
      "0.4\n",
      "5.4\n",
      "6.9\n",
      "11.9\n",
      "12.3\n",
      "17.3\n",
      "18.8\n",
      "23.8\n",
      "23.8\n"
     ]
    }
   ],
   "source": [
    "for i in h5file.root.beamline.s:\n",
    "    print (i)"
   ]
  },
  {
   "cell_type": "code",
   "execution_count": 68,
   "id": "4d2426a0-3573-492b-aa19-41196d794cb8",
   "metadata": {},
   "outputs": [
    {
     "name": "stdout",
     "output_type": "stream",
     "text": [
      "1.0134820648868198e-05\n",
      "1.0134820648868198e-05\n",
      "1.0134820648868201e-05\n",
      "1.013565083016217e-05\n",
      "1.0131554486043482e-05\n",
      "9.994331748281792e-06\n",
      "9.959629063541086e-06\n",
      "5.009136914281669e-06\n",
      "4.40139760242605e-06\n",
      "3.7453273376997203e-06\n",
      "3.7453273376997203e-06\n"
     ]
    }
   ],
   "source": [
    "for i in h5file.root.twiss.emit_x:\n",
    "    print (i)"
   ]
  },
  {
   "cell_type": "code",
   "execution_count": 69,
   "id": "c207b4fa-a53c-41bb-8f5e-3967a4e1b3a1",
   "metadata": {},
   "outputs": [
    {
     "name": "stdout",
     "output_type": "stream",
     "text": [
      "10.0\n",
      "10.0\n",
      "9.300724614618339\n",
      "7.055530318067579\n",
      "15.763887749415067\n",
      "58.12781715086643\n",
      "75.24321923724224\n",
      "1001.2668133387202\n",
      "1292.3593278285514\n",
      "1707.3766328751396\n",
      "1707.3766328751396\n"
     ]
    }
   ],
   "source": [
    "for i in h5file.root.twiss.beta_x:\n",
    "    print (i)"
   ]
  },
  {
   "cell_type": "code",
   "execution_count": 70,
   "id": "7abde8f4-3380-4041-99da-3a77e585d7b0",
   "metadata": {},
   "outputs": [
    {
     "data": {
      "text/plain": [
       "/twiss/beta_x (EArray(11,)) ''\n",
       "  atom := Float64Atom(shape=(), dflt=0.0)\n",
       "  maindim := 0\n",
       "  flavor := 'numpy'\n",
       "  byteorder := 'little'\n",
       "  chunkshape := (8192,)"
      ]
     },
     "execution_count": 70,
     "metadata": {},
     "output_type": "execute_result"
    }
   ],
   "source": [
    "h5file.root.twiss.beta_x"
   ]
  },
  {
   "cell_type": "code",
   "execution_count": 71,
   "id": "bee807a7-b9e4-4165-b9de-d9133972eddc",
   "metadata": {},
   "outputs": [],
   "source": [
    "h5file.close()"
   ]
  },
  {
   "cell_type": "code",
   "execution_count": null,
   "id": "9a22eeaf-2de5-48a2-beda-83ce1b8bd949",
   "metadata": {},
   "outputs": [],
   "source": []
  }
 ],
 "metadata": {
  "kernelspec": {
   "display_name": "Python 3 (ipykernel)",
   "language": "python",
   "name": "python3"
  },
  "language_info": {
   "codemirror_mode": {
    "name": "ipython",
    "version": 3
   },
   "file_extension": ".py",
   "mimetype": "text/x-python",
   "name": "python",
   "nbconvert_exporter": "python",
   "pygments_lexer": "ipython3",
   "version": "3.9.15"
  }
 },
 "nbformat": 4,
 "nbformat_minor": 5
}
