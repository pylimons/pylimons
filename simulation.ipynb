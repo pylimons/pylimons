{
 "cells": [
  {
   "cell_type": "markdown",
   "id": "c1029c3e",
   "metadata": {},
   "source": [
    "# pylimons: Python Linac MOdeling aNd Simulation"
   ]
  },
  {
   "cell_type": "markdown",
   "id": "6730002d-5678-468e-81bb-0b4ce6beb2cf",
   "metadata": {},
   "source": [
    "## Utils"
   ]
  },
  {
   "cell_type": "code",
   "execution_count": null,
   "id": "a0f2304a",
   "metadata": {},
   "outputs": [],
   "source": [
    "import utils"
   ]
  },
  {
   "cell_type": "code",
   "execution_count": null,
   "id": "43ee6a4d-ade3-498a-a95d-0581e7fa13f2",
   "metadata": {},
   "outputs": [],
   "source": [
    "utils.c"
   ]
  },
  {
   "cell_type": "code",
   "execution_count": null,
   "id": "20cd6695-aaf9-4440-9b16-03c5ea4f0053",
   "metadata": {},
   "outputs": [],
   "source": [
    "from utils import physical_constants as pconstants"
   ]
  },
  {
   "cell_type": "code",
   "execution_count": null,
   "id": "362b3262-e62e-4aea-b05d-54bb08505602",
   "metadata": {},
   "outputs": [],
   "source": [
    "pconstants.c"
   ]
  },
  {
   "cell_type": "code",
   "execution_count": null,
   "id": "c13540df-a0e5-4640-9464-d7e95093c2b3",
   "metadata": {},
   "outputs": [],
   "source": [
    "pconstants.m_e"
   ]
  },
  {
   "cell_type": "markdown",
   "id": "0462b2bd-b87f-4019-b94f-f105b1c6b0d4",
   "metadata": {},
   "source": [
    "## Beam"
   ]
  },
  {
   "cell_type": "markdown",
   "id": "99584dba-0373-4c61-a0bf-6ba7dbd97890",
   "metadata": {},
   "source": [
    "### Particle Class"
   ]
  },
  {
   "cell_type": "code",
   "execution_count": null,
   "id": "070f3681-42ca-4ca5-8b80-257b009ceffa",
   "metadata": {},
   "outputs": [],
   "source": [
    "from beam import Particle"
   ]
  },
  {
   "cell_type": "code",
   "execution_count": null,
   "id": "5c5db0be-efd9-4281-8373-4a00be0091f5",
   "metadata": {},
   "outputs": [],
   "source": [
    "particle = Particle('electron', 10)"
   ]
  },
  {
   "cell_type": "code",
   "execution_count": null,
   "id": "e59b3800-23fe-4356-9db6-fa2a89f3f401",
   "metadata": {},
   "outputs": [],
   "source": [
    "particle.get_gamma()"
   ]
  },
  {
   "cell_type": "code",
   "execution_count": null,
   "id": "3e92ddfc-879b-4dfe-8014-d6840f70039a",
   "metadata": {},
   "outputs": [],
   "source": [
    "particle.get_momentum()"
   ]
  },
  {
   "cell_type": "code",
   "execution_count": null,
   "id": "2b2fdf7f-0c82-4a50-9cdb-258c73832cf1",
   "metadata": {},
   "outputs": [],
   "source": [
    "particle.print_properties()"
   ]
  },
  {
   "cell_type": "code",
   "execution_count": null,
   "id": "122801a4-b311-4fea-8c0a-568461db980b",
   "metadata": {},
   "outputs": [],
   "source": [
    "particle.update_energy(20)"
   ]
  },
  {
   "cell_type": "code",
   "execution_count": null,
   "id": "c1d5c14e-9374-4fa9-8665-c30856638191",
   "metadata": {},
   "outputs": [],
   "source": [
    "particle.print_properties()"
   ]
  },
  {
   "cell_type": "markdown",
   "id": "048ac574-7575-4c0a-b8d3-c09873c11441",
   "metadata": {},
   "source": [
    "### Bunch Class"
   ]
  },
  {
   "cell_type": "code",
   "execution_count": null,
   "id": "19801a3e-4ca0-4940-b283-30bc37a48d4c",
   "metadata": {},
   "outputs": [],
   "source": [
    "from beam import Bunch"
   ]
  },
  {
   "cell_type": "code",
   "execution_count": null,
   "id": "f4e077f2-7b27-45c5-b164-a8b173e69205",
   "metadata": {},
   "outputs": [],
   "source": [
    "twiss_x = [-1.5, 10, 10]\n",
    "twiss_y = [1.5, 10, 10]\n",
    "\n",
    "#Bunch(sepcies, energy, dimension, num_particles, twiss_x, twiss_y)\n",
    "\n",
    "bunch = Bunch('electron', 10, 4, 10000, twiss_x, twiss_y)"
   ]
  },
  {
   "cell_type": "code",
   "execution_count": null,
   "id": "c17c1681-1c00-4b84-bcdb-81f0b6479fc4",
   "metadata": {},
   "outputs": [],
   "source": [
    "particles = bunch.generate_transverse_matched_beam_distribution()\n",
    "print (particles.shape)"
   ]
  },
  {
   "cell_type": "code",
   "execution_count": null,
   "id": "e324ae70-b823-446b-b7fc-4a93a4a2d2c7",
   "metadata": {},
   "outputs": [],
   "source": [
    "bunch.particle.print_properties()"
   ]
  },
  {
   "cell_type": "code",
   "execution_count": null,
   "id": "4ecf5b20-a0e1-4c48-bd4d-e66735dcea3d",
   "metadata": {},
   "outputs": [],
   "source": [
    "bunch.print_properties()"
   ]
  },
  {
   "cell_type": "code",
   "execution_count": null,
   "id": "f8988946-8666-4eaf-a27a-edc80cec4994",
   "metadata": {},
   "outputs": [],
   "source": [
    "x = particles[0,:]\n",
    "xp = particles[1,:]"
   ]
  },
  {
   "cell_type": "code",
   "execution_count": null,
   "id": "3432f791-fa76-4c05-b319-78c5da3d847d",
   "metadata": {},
   "outputs": [],
   "source": [
    "from matplotlib import pyplot as plt"
   ]
  },
  {
   "cell_type": "code",
   "execution_count": null,
   "id": "f56d8e79-5f62-452b-ae83-2567cbaeb208",
   "metadata": {},
   "outputs": [],
   "source": [
    "fig = plt.figure(figsize=(8,8))\n",
    "\n",
    "grid = plt.GridSpec(4, 4, hspace=0.2, wspace=0.2)\n",
    "main_ax = fig.add_subplot(grid[1:,:3])\n",
    "x_hist = fig.add_subplot(grid[0,:3], yticklabels=[], sharex=main_ax)\n",
    "y_hist = fig.add_subplot(grid[1:,3], xticklabels=[], sharey=main_ax)\n",
    "\n",
    "# scatter points on the main axes\n",
    "main_ax.scatter(x, xp, s=1)#, 'ob', markersize=3, alpha=0.2)\n",
    "main_ax.set_xlabel(r'$x$', fontsize=30)\n",
    "main_ax.set_ylabel(r'$x^{\\prime}$', fontsize=30)\n",
    "main_ax.grid()\n",
    "\n",
    "# histogram on the attached axes\n",
    "x_hist.hist(x, 100, histtype='step', orientation='vertical', color='b')\n",
    "y_hist.hist(xp, 100, histtype='step', orientation='horizontal', color='b')\n",
    "        \n",
    "plt.show()"
   ]
  },
  {
   "cell_type": "markdown",
   "id": "832aeffb-f25f-4f82-8de5-6dddce535edb",
   "metadata": {},
   "source": [
    "## Elements"
   ]
  },
  {
   "cell_type": "markdown",
   "id": "24f3c63b-432e-41b4-abaf-8164085738fb",
   "metadata": {},
   "source": [
    "### Element Class (Parent Class)"
   ]
  },
  {
   "cell_type": "code",
   "execution_count": null,
   "id": "5aad3d8e-67d7-4710-8ae4-f59bc7e527f5",
   "metadata": {},
   "outputs": [],
   "source": [
    "from elements import Element"
   ]
  },
  {
   "cell_type": "code",
   "execution_count": null,
   "id": "553fc9ca-3e5f-4860-b405-292ffd2adb6b",
   "metadata": {},
   "outputs": [],
   "source": [
    "quad = Element(\"qf\", \"quadrupole\", 0.2, 20)"
   ]
  },
  {
   "cell_type": "code",
   "execution_count": null,
   "id": "f25bce7a-b0f2-4de6-8a30-faf515a57ef3",
   "metadata": {},
   "outputs": [],
   "source": [
    "quad.print_properties()"
   ]
  },
  {
   "cell_type": "code",
   "execution_count": null,
   "id": "1f75c1d1-7e46-487a-8b65-9d0ef1c25220",
   "metadata": {},
   "outputs": [],
   "source": [
    "quad2 = quad.element_copy(\"quad2\")"
   ]
  },
  {
   "cell_type": "code",
   "execution_count": null,
   "id": "11966682-0caf-415b-8c21-d603c145ec44",
   "metadata": {},
   "outputs": [],
   "source": [
    "quad2.set_element_property(length=0.4)"
   ]
  },
  {
   "cell_type": "code",
   "execution_count": null,
   "id": "5750c69f-c816-4efe-b4dc-fc7eb9d96a6d",
   "metadata": {},
   "outputs": [],
   "source": [
    "quad2.get_element_property(\"length\")"
   ]
  },
  {
   "cell_type": "code",
   "execution_count": null,
   "id": "e7cc52b2-525c-480d-9e07-994d3743aa43",
   "metadata": {},
   "outputs": [],
   "source": [
    "quad2.print_properties()"
   ]
  },
  {
   "cell_type": "markdown",
   "id": "b4bc89ac-7dda-45c1-9ec9-b4c1fdc3c184",
   "metadata": {},
   "source": [
    "### Drift Class (Child Class)"
   ]
  },
  {
   "cell_type": "code",
   "execution_count": null,
   "id": "1b730d13-7456-44df-a9c9-207ca6eedccb",
   "metadata": {},
   "outputs": [],
   "source": [
    "from elements import Drift"
   ]
  },
  {
   "cell_type": "code",
   "execution_count": null,
   "id": "bc5478fe-947f-48cc-8400-43f9c2b7ddb0",
   "metadata": {},
   "outputs": [],
   "source": [
    "d10 = Drift(\"d10\", \"drift\", 10)"
   ]
  },
  {
   "cell_type": "code",
   "execution_count": null,
   "id": "55735831-3f4d-41c3-aed5-fcece172beec",
   "metadata": {},
   "outputs": [],
   "source": [
    "d10.print_properties()"
   ]
  },
  {
   "cell_type": "code",
   "execution_count": null,
   "id": "be85795d-93ed-4624-8f2c-123c1142cd7f",
   "metadata": {},
   "outputs": [],
   "source": [
    "d10.set_element_property(length=20)\n",
    "d10.get_element_property(\"length\")"
   ]
  },
  {
   "cell_type": "code",
   "execution_count": null,
   "id": "769b592e-8024-4b3d-8ac3-e80b290c95c7",
   "metadata": {},
   "outputs": [],
   "source": [
    "mat = d10.get_transfer_matrix()"
   ]
  },
  {
   "cell_type": "code",
   "execution_count": null,
   "id": "9be270b6-58bf-4e3d-be17-22d5c2ab1e5f",
   "metadata": {},
   "outputs": [],
   "source": [
    "new_particles = d10.propagate(particles)"
   ]
  },
  {
   "cell_type": "code",
   "execution_count": null,
   "id": "3ee39337-d1fc-4fef-a10e-b8fb7f05d571",
   "metadata": {},
   "outputs": [],
   "source": [
    "new_particles.shape"
   ]
  },
  {
   "cell_type": "code",
   "execution_count": null,
   "id": "f799204e-9691-4405-8eb2-df1925a0d4d1",
   "metadata": {},
   "outputs": [],
   "source": [
    "nx = new_particles[0,:]\n",
    "nxp = new_particles[1,:]"
   ]
  },
  {
   "cell_type": "code",
   "execution_count": null,
   "id": "b7403e9c-e884-405f-9698-a006216dcb08",
   "metadata": {},
   "outputs": [],
   "source": [
    "fig = plt.figure(figsize=(8,8))\n",
    "\n",
    "grid = plt.GridSpec(4, 4, hspace=0.2, wspace=0.2)\n",
    "main_ax = fig.add_subplot(grid[1:,:3])\n",
    "x_hist = fig.add_subplot(grid[0,:3], yticklabels=[], sharex=main_ax)\n",
    "y_hist = fig.add_subplot(grid[1:,3], xticklabels=[], sharey=main_ax)\n",
    "\n",
    "# scatter points on the main axes\n",
    "main_ax.scatter(x, xp, s=1)#, 'ob', markersize=3, alpha=0.2)\n",
    "main_ax.scatter(nx, nxp, s=1, c='r')#, 'ob', markersize=3, alpha=0.2)\n",
    "main_ax.set_xlabel(r'$x$', fontsize=30)\n",
    "main_ax.set_ylabel(r'$x^{\\prime}$', fontsize=30)\n",
    "main_ax.grid()\n",
    "\n",
    "# histogram on the attached axes\n",
    "x_hist.hist(x, 100, histtype='step', orientation='vertical', color='b')\n",
    "y_hist.hist(xp, 100, histtype='step', orientation='horizontal', color='b')\n",
    "\n",
    "x_hist.hist(nx, 100, histtype='step', orientation='vertical', color='r')\n",
    "y_hist.hist(nxp, 100, histtype='step', orientation='horizontal', color='r')\n",
    "        \n",
    "plt.show()"
   ]
  },
  {
   "cell_type": "code",
   "execution_count": null,
   "id": "a6dab6f3-6a0d-4e7f-92b4-e5c68470d207",
   "metadata": {},
   "outputs": [],
   "source": []
  }
 ],
 "metadata": {
  "kernelspec": {
   "display_name": "Python 3 (ipykernel)",
   "language": "python",
   "name": "python3"
  },
  "language_info": {
   "codemirror_mode": {
    "name": "ipython",
    "version": 3
   },
   "file_extension": ".py",
   "mimetype": "text/x-python",
   "name": "python",
   "nbconvert_exporter": "python",
   "pygments_lexer": "ipython3",
   "version": "3.9.13"
  }
 },
 "nbformat": 4,
 "nbformat_minor": 5
}
