{
 "cells": [
  {
   "cell_type": "code",
   "execution_count": null,
   "id": "817261a0-5103-40ab-8313-6980cb431d7e",
   "metadata": {},
   "outputs": [],
   "source": [
    "import numpy as np\n",
    "from matplotlib import pyplot as plt\n",
    "import tables\n",
    "tables.file._open_files.close_all()"
   ]
  },
  {
   "cell_type": "markdown",
   "id": "297e81de-f683-4209-874c-afeaa18e55c8",
   "metadata": {},
   "source": [
    "## Random Seed"
   ]
  },
  {
   "cell_type": "code",
   "execution_count": null,
   "id": "de3654fd-d387-4df4-a717-b33be6e5c9bd",
   "metadata": {
    "tags": []
   },
   "outputs": [],
   "source": [
    "from elements import *\n",
    "from beamline import Beamline\n",
    "from beam import Bunch"
   ]
  },
  {
   "cell_type": "code",
   "execution_count": null,
   "id": "bfc66e93-5730-47a5-99e3-c47367961f31",
   "metadata": {},
   "outputs": [],
   "source": [
    "twiss_x = [-1.5, 10, 10e-6]\n",
    "twiss_y = [1.5, 10, 10e-6]\n",
    "beam_energy = 10\n",
    "dim = 4\n",
    "num_particles = 10000"
   ]
  },
  {
   "cell_type": "code",
   "execution_count": null,
   "id": "36fa9e51-87a8-4d50-9784-55374b2da759",
   "metadata": {},
   "outputs": [],
   "source": [
    "bunch = Bunch('electron', beam_energy, dim, num_particles, twiss_x, twiss_y)\n",
    "particles = bunch.generate_transverse_matched_beam_distribution(seed=134)\n",
    "x = particles[0, :]\n",
    "xp = particles[1, :]"
   ]
  },
  {
   "cell_type": "code",
   "execution_count": null,
   "id": "0add0cf0-1bc1-4c70-8f20-a171e59ca1b6",
   "metadata": {},
   "outputs": [],
   "source": [
    "bunch2 = Bunch('electron', beam_energy, dim, num_particles, twiss_x, twiss_y)\n",
    "particles2 = bunch2.generate_transverse_matched_beam_distribution(seed=12234)\n",
    "nx = particles2[0,:]\n",
    "nxp = particles2[1,:]"
   ]
  },
  {
   "cell_type": "code",
   "execution_count": null,
   "id": "9e06cf06-d7ed-41aa-98f9-94e4cae4ad85",
   "metadata": {},
   "outputs": [],
   "source": [
    "print (x)\n",
    "print (nx)"
   ]
  },
  {
   "cell_type": "code",
   "execution_count": null,
   "id": "f0b3b9cb-65ef-4bc8-b58e-a71a14bd150b",
   "metadata": {},
   "outputs": [],
   "source": [
    "fig = plt.figure(figsize=(8,8))\n",
    "\n",
    "grid = plt.GridSpec(4, 4, hspace=0.2, wspace=0.2)\n",
    "main_ax = fig.add_subplot(grid[1:,:3])\n",
    "x_hist = fig.add_subplot(grid[0,:3], yticklabels=[], sharex=main_ax)\n",
    "y_hist = fig.add_subplot(grid[1:,3], xticklabels=[], sharey=main_ax)\n",
    "\n",
    "# scatter points on the main axes\n",
    "main_ax.scatter(x*1e3, xp*1e3, s=1)#, 'ob', markersize=3, alpha=0.2)\n",
    "main_ax.scatter(nx*1e3, nxp*1e3, s=1, c='r')#, 'ob', markersize=3, alpha=0.2)\n",
    "main_ax.set_xlabel(r'$x$ (mm)', fontsize=30)\n",
    "main_ax.set_ylabel(r'$x^{\\prime}$ (mrad)', fontsize=30)\n",
    "main_ax.grid()\n",
    "\n",
    "# histogram on the attached axes\n",
    "x_hist.hist(x*1e3, 100, histtype='step', orientation='vertical', color='b')\n",
    "y_hist.hist(xp*1e3, 100, histtype='step', orientation='horizontal', color='b')\n",
    "\n",
    "x_hist.hist(nx*1e3, 100, histtype='step', orientation='vertical', color='r')\n",
    "y_hist.hist(nxp*1e3, 100, histtype='step', orientation='horizontal', color='r')\n",
    "        \n",
    "plt.show()"
   ]
  },
  {
   "cell_type": "markdown",
   "id": "32eb9bdb-13b5-4573-80f3-cb0bd6c0a2ba",
   "metadata": {},
   "source": [
    "## Update Twiss Parameters"
   ]
  },
  {
   "cell_type": "code",
   "execution_count": null,
   "id": "f4841469-bf97-4ad2-a3d1-f6557d6c375f",
   "metadata": {
    "tags": []
   },
   "outputs": [],
   "source": [
    "d1 = Drift(\"d1\", \"drift\", 5) #, aperture=['circular', 1e-1])\n",
    "qf = Quadrupole(\"qf\", \"quadrupole\", 0.4, 1.2) #, aperture=['circular', 5e-2])\n",
    "qd = Quadrupole(\"qd\", \"quadrupole\", 0.4, -1.2) #, aperture=['circular', 5e-2])\n",
    "m1 = Marker(\"m1\", \"marker\") #, aperture=['circular', 1e-1])"
   ]
  },
  {
   "cell_type": "code",
   "execution_count": null,
   "id": "b2815325-dea3-4f2f-b39f-c310fb342fd3",
   "metadata": {},
   "outputs": [],
   "source": [
    "fodo_list = [qf, d1, qd, d1, m1]"
   ]
  },
  {
   "cell_type": "code",
   "execution_count": null,
   "id": "e4d3763c-a3e1-4cc2-9800-bf03436026ed",
   "metadata": {},
   "outputs": [],
   "source": [
    "fodo = Beamline(\"fodo\", fodo_list)"
   ]
  },
  {
   "cell_type": "code",
   "execution_count": null,
   "id": "b374fd28-78a1-425f-8bef-36a5e115c5f7",
   "metadata": {},
   "outputs": [],
   "source": [
    "fodo.get_num_beamline_elements()"
   ]
  },
  {
   "cell_type": "code",
   "execution_count": null,
   "id": "8a3added-d1db-4b3e-bb7f-f43bc301beca",
   "metadata": {},
   "outputs": [],
   "source": [
    "fodo.print_beamline()"
   ]
  },
  {
   "cell_type": "code",
   "execution_count": null,
   "id": "44149ff8-19ef-4630-90d3-45881b62d3d7",
   "metadata": {},
   "outputs": [],
   "source": [
    "twiss_x = [-1.5, 10, 10e-6]\n",
    "twiss_y = [1.5, 10, 10e-6]\n",
    "\n",
    "bunch = Bunch('electron', 10, 4, 10000, twiss_x, twiss_y)"
   ]
  },
  {
   "cell_type": "code",
   "execution_count": null,
   "id": "3d29256a-b722-47ee-b5c8-b2383bed441b",
   "metadata": {},
   "outputs": [],
   "source": [
    "particles = bunch.generate_transverse_matched_beam_distribution()\n",
    "x = particles[0, :]\n",
    "xp = particles[1, :]\n",
    "y = particles[2, :]"
   ]
  },
  {
   "cell_type": "code",
   "execution_count": null,
   "id": "dbbf97a6-19c0-4600-81d2-d1c2ebedf3cf",
   "metadata": {},
   "outputs": [],
   "source": [
    "bunch.twiss_x"
   ]
  },
  {
   "cell_type": "code",
   "execution_count": null,
   "id": "80288697-7f0f-431a-8183-99dc35e02b4f",
   "metadata": {},
   "outputs": [],
   "source": [
    "bunch.print_bunch_properties()"
   ]
  },
  {
   "cell_type": "code",
   "execution_count": null,
   "id": "996669c2-62e0-4a3c-beec-dd5e49e821d0",
   "metadata": {
    "tags": []
   },
   "outputs": [],
   "source": [
    "fodo.propagate_beamline(bunch)"
   ]
  },
  {
   "cell_type": "code",
   "execution_count": null,
   "id": "e165958f-59a3-4ba7-8914-ecddd0083432",
   "metadata": {},
   "outputs": [],
   "source": [
    "bunch.print_bunch_properties()"
   ]
  },
  {
   "cell_type": "code",
   "execution_count": null,
   "id": "2441f918-24da-4a3e-9dae-54970021436f",
   "metadata": {},
   "outputs": [],
   "source": [
    "new_particles = bunch.state\n",
    "nx = new_particles[0,:]\n",
    "nxp = new_particles[1,:]\n",
    "ny = new_particles[2,:]"
   ]
  },
  {
   "cell_type": "code",
   "execution_count": null,
   "id": "e4f56af0-5a27-4f87-a979-3b205cc026b2",
   "metadata": {},
   "outputs": [],
   "source": [
    "bunch.print_bunch_properties()"
   ]
  },
  {
   "cell_type": "code",
   "execution_count": null,
   "id": "f708b963-5886-487c-bfaa-ae24d079c699",
   "metadata": {},
   "outputs": [],
   "source": [
    "fig = plt.figure(figsize=(8,8))\n",
    "\n",
    "grid = plt.GridSpec(4, 4, hspace=0.2, wspace=0.2)\n",
    "main_ax = fig.add_subplot(grid[1:,:3])\n",
    "x_hist = fig.add_subplot(grid[0,:3], yticklabels=[], sharex=main_ax)\n",
    "y_hist = fig.add_subplot(grid[1:,3], xticklabels=[], sharey=main_ax)\n",
    "\n",
    "# scatter points on the main axes\n",
    "main_ax.scatter(x*1e3, xp*1e3, s=1)#, 'ob', markersize=3, alpha=0.2)\n",
    "main_ax.scatter(nx*1e3, nxp*1e3, s=1, c='r')#, 'ob', markersize=3, alpha=0.2)\n",
    "main_ax.set_xlabel(r'$x$ (mm)', fontsize=30)\n",
    "main_ax.set_ylabel(r'$x^{\\prime}$ (mrad)', fontsize=30)\n",
    "main_ax.grid()\n",
    "\n",
    "# histogram on the attached axes\n",
    "x_hist.hist(x*1e3, 100, histtype='step', orientation='vertical', color='b')\n",
    "y_hist.hist(xp*1e3, 100, histtype='step', orientation='horizontal', color='b')\n",
    "\n",
    "x_hist.hist(nx*1e3, 100, histtype='step', orientation='vertical', color='r')\n",
    "y_hist.hist(nxp*1e3, 100, histtype='step', orientation='horizontal', color='r')\n",
    "        \n",
    "plt.show()"
   ]
  },
  {
   "cell_type": "code",
   "execution_count": null,
   "id": "75c53301-5a62-4b05-987b-2b8a18964966",
   "metadata": {
    "tags": []
   },
   "outputs": [],
   "source": [
    "fig = plt.figure(figsize=(8,8))\n",
    "\n",
    "grid = plt.GridSpec(4, 4, hspace=0.2, wspace=0.2)\n",
    "main_ax = fig.add_subplot(grid[1:,:3])\n",
    "x_hist = fig.add_subplot(grid[0,:3], yticklabels=[], sharex=main_ax)\n",
    "y_hist = fig.add_subplot(grid[1:,3], xticklabels=[], sharey=main_ax)\n",
    "\n",
    "# scatter points on the main axes\n",
    "main_ax.scatter(x, y, s=1)#, 'ob', markersize=3, alpha=0.2)\n",
    "main_ax.scatter(nx, ny, s=1, c='r')#, 'ob', markersize=3, alpha=0.2)\n",
    "main_ax.set_xlabel(r'$x$', fontsize=30)\n",
    "main_ax.set_ylabel(r'$y$', fontsize=30)\n",
    "main_ax.grid()\n",
    "\n",
    "# histogram on the attached axes\n",
    "x_hist.hist(x, 100, histtype='step', orientation='vertical', color='b')\n",
    "y_hist.hist(y, 100, histtype='step', orientation='horizontal', color='b')\n",
    "\n",
    "x_hist.hist(nx, 100, histtype='step', orientation='vertical', color='r')\n",
    "y_hist.hist(ny, 100, histtype='step', orientation='horizontal', color='r')\n",
    "        \n",
    "plt.show()"
   ]
  },
  {
   "cell_type": "markdown",
   "id": "45030197-704c-4b1c-89d4-43b3ea4ce253",
   "metadata": {},
   "source": [
    "## Diagnostics"
   ]
  },
  {
   "cell_type": "markdown",
   "id": "c2f0523f-8074-4f1a-82d9-064196cb71c3",
   "metadata": {},
   "source": [
    "### Particle Diagnostics"
   ]
  },
  {
   "cell_type": "code",
   "execution_count": null,
   "id": "1d685eac-d377-47ee-8b20-53459a623fb5",
   "metadata": {},
   "outputs": [],
   "source": [
    "import tables\n",
    "import numpy as np\n",
    "import os\n",
    "from matplotlib import pyplot as plt"
   ]
  },
  {
   "cell_type": "code",
   "execution_count": null,
   "id": "0e0383ff-f253-4173-9b56-7f046f9fa8c7",
   "metadata": {},
   "outputs": [],
   "source": [
    "from elements import *\n",
    "from beamline import Beamline\n",
    "from beam import Bunch\n",
    "from utils import diagnostics"
   ]
  },
  {
   "cell_type": "code",
   "execution_count": null,
   "id": "9b01bf48-fadd-4ab9-a713-a7204b620aaf",
   "metadata": {},
   "outputs": [],
   "source": [
    "twiss_x = [-1.5, 10, 10e-6]\n",
    "twiss_y = [1.5, 10, 10e-6]\n",
    "\n",
    "bunch = Bunch('electron', 10, 4, 10000, twiss_x, twiss_y)"
   ]
  },
  {
   "cell_type": "code",
   "execution_count": null,
   "id": "fbbcf6a2-33d6-423c-bd0c-b878f293be44",
   "metadata": {},
   "outputs": [],
   "source": [
    "particles = bunch.generate_transverse_matched_beam_distribution()"
   ]
  },
  {
   "cell_type": "code",
   "execution_count": null,
   "id": "dedddf71-105f-40d9-96db-c51451cbae59",
   "metadata": {},
   "outputs": [],
   "source": [
    "if os.path.exists(\"particle.h5\"):\n",
    "    os.remove(\"particle.h5\")"
   ]
  },
  {
   "cell_type": "code",
   "execution_count": null,
   "id": "45e699f0-ad82-4605-af42-239097f5feaa",
   "metadata": {},
   "outputs": [],
   "source": [
    "pdiagnostics = diagnostics.Particle_diagnostics(\"particle.h5\")"
   ]
  },
  {
   "cell_type": "code",
   "execution_count": null,
   "id": "ca235ed8-e3ee-4167-a6f6-d376347a4c76",
   "metadata": {},
   "outputs": [],
   "source": [
    "pdiagnostics.save_particle_diagnostics(bunch.particle)"
   ]
  },
  {
   "cell_type": "code",
   "execution_count": null,
   "id": "55b7d5dd-ce1a-48ec-9d8e-05fe35dc6122",
   "metadata": {},
   "outputs": [],
   "source": [
    "h5file = tables.open_file(\"particle.h5\")"
   ]
  },
  {
   "cell_type": "code",
   "execution_count": null,
   "id": "1e3b4792-7d1a-4fbd-a124-df06cfe5c763",
   "metadata": {},
   "outputs": [],
   "source": [
    "h5file.root.particle"
   ]
  },
  {
   "cell_type": "code",
   "execution_count": null,
   "id": "d3c37365-e296-4941-8cf1-a2d78fe3c385",
   "metadata": {},
   "outputs": [],
   "source": [
    "for i in h5file.root.particle:\n",
    "    if i.name == \"species\":\n",
    "        print (\"%10s %10s\" % (i.name, i.read()[0])) #.decode('ASCII')))\n",
    "    else:\n",
    "        print (\"%10s %10.5f\" % (i.name, i.read()))"
   ]
  },
  {
   "cell_type": "code",
   "execution_count": null,
   "id": "1dac67ee-a307-4e71-8fb9-586321ced253",
   "metadata": {},
   "outputs": [],
   "source": [
    "h5file.close()"
   ]
  },
  {
   "cell_type": "markdown",
   "id": "94672777-fad5-442a-8996-df40b3b6ee91",
   "metadata": {},
   "source": [
    "### Bunch Diagnostics"
   ]
  },
  {
   "cell_type": "code",
   "execution_count": null,
   "id": "2fd8f5fc-86a3-4be6-a69b-c3886c1e06a1",
   "metadata": {},
   "outputs": [],
   "source": [
    "if os.path.exists(\"bunch.h5\"):\n",
    "    os.remove(\"bunch.h5\")"
   ]
  },
  {
   "cell_type": "code",
   "execution_count": null,
   "id": "0a7c5134-e5e8-4476-ac12-8df1317b5589",
   "metadata": {
    "tags": []
   },
   "outputs": [],
   "source": [
    "bdiagnostics = diagnostics.Bunch_diagnostics(\"bunch.h5\")"
   ]
  },
  {
   "cell_type": "code",
   "execution_count": null,
   "id": "4b7841c8-6e9b-4e0e-9686-cd4185daece6",
   "metadata": {},
   "outputs": [],
   "source": [
    "bdiagnostics.save_bunch_diagnostics(bunch)"
   ]
  },
  {
   "cell_type": "code",
   "execution_count": null,
   "id": "277d851e-013d-4d26-b2e3-b6fcc0934d64",
   "metadata": {},
   "outputs": [],
   "source": [
    "h5file = tables.open_file(\"bunch.h5\")"
   ]
  },
  {
   "cell_type": "code",
   "execution_count": null,
   "id": "ce9f784a-6600-4665-9c6b-359df0e39d9f",
   "metadata": {},
   "outputs": [],
   "source": [
    "h5file.root"
   ]
  },
  {
   "cell_type": "code",
   "execution_count": null,
   "id": "2aefc9d5-08da-4e25-b42b-2f81598499f4",
   "metadata": {},
   "outputs": [],
   "source": [
    "h5file.root.particles.read()"
   ]
  },
  {
   "cell_type": "code",
   "execution_count": null,
   "id": "333428fa-1cba-48bb-955e-0d7bde3d71f3",
   "metadata": {},
   "outputs": [],
   "source": [
    "h5file.root.diagnostics"
   ]
  },
  {
   "cell_type": "code",
   "execution_count": null,
   "id": "36487c46-1e93-4ee3-a78e-774a88a837a5",
   "metadata": {},
   "outputs": [],
   "source": [
    "for i in h5file.root.diagnostics:\n",
    "    print (\"%12s %10.5f\" % (i.name, i.read()))"
   ]
  },
  {
   "cell_type": "code",
   "execution_count": null,
   "id": "33526e1f-8c24-4315-a1b7-9459a423bf98",
   "metadata": {},
   "outputs": [],
   "source": [
    "h5file.root.twiss"
   ]
  },
  {
   "cell_type": "code",
   "execution_count": null,
   "id": "4425f327-4b65-4d6d-9343-8cc7b77eaa76",
   "metadata": {},
   "outputs": [],
   "source": [
    "for i in h5file.root.twiss:\n",
    "    print (\"%12s %10.5f\" % (i.name, i.read()))"
   ]
  },
  {
   "cell_type": "code",
   "execution_count": null,
   "id": "f7d2e803-c23f-4e7c-8a76-18a0e1df98a8",
   "metadata": {},
   "outputs": [],
   "source": [
    "h5file.close()"
   ]
  },
  {
   "cell_type": "markdown",
   "id": "e9acb4a1-d0c7-4c18-a142-eea9cbf2196a",
   "metadata": {},
   "source": [
    "## Beamline Diagnostics"
   ]
  },
  {
   "cell_type": "code",
   "execution_count": null,
   "id": "db1f3b41-9d10-47ec-b565-850305e6e632",
   "metadata": {},
   "outputs": [],
   "source": [
    "from elements import *\n",
    "from beamline import Beamline\n",
    "from beam import Bunch\n",
    "from matplotlib import pyplot as plt\n",
    "from utils import diagnostics\n",
    "import os\n",
    "from tables import *"
   ]
  },
  {
   "cell_type": "code",
   "execution_count": null,
   "id": "6848fafa-33e6-445a-8c76-6eef7da53b3c",
   "metadata": {},
   "outputs": [],
   "source": [
    "if os.path.exists(\"beamline.h5\"):\n",
    "    os.remove(\"beamline.h5\")"
   ]
  },
  {
   "cell_type": "code",
   "execution_count": null,
   "id": "9c18105a-f525-4da7-b741-9244e8b96f3a",
   "metadata": {},
   "outputs": [],
   "source": [
    "twiss_x = [-1.5, 10, 10e-6]\n",
    "twiss_y = [1.5, 10, 10e-6]\n",
    "\n",
    "bunch = Bunch('electron', 10, 4, 10000, twiss_x, twiss_y)"
   ]
  },
  {
   "cell_type": "code",
   "execution_count": null,
   "id": "ada1a83f-1aa8-4e3f-8757-729484a16e9e",
   "metadata": {},
   "outputs": [],
   "source": [
    "particles = bunch.generate_transverse_matched_beam_distribution()"
   ]
  },
  {
   "cell_type": "code",
   "execution_count": null,
   "id": "dc40d2e6-01c8-4d69-b538-6e0b09f0b659",
   "metadata": {
    "tags": []
   },
   "outputs": [],
   "source": [
    "d1 = Drift(\"d1\", \"drift\", 5, aperture=['circular', 1e-1])\n",
    "b1 = Sbend(\"b1\", \"sbend\", 1.5, 22.5, aperture=['circular', 1e-1])\n",
    "qf = Quadrupole(\"qf\", \"quadrupole\", 0.4, 1.2, aperture=['circular', 1e-1])\n",
    "qd = Quadrupole(\"qd\", \"quadrupole\", 0.4, -1.2, aperture=['circular', 1e-1])\n",
    "m1 = Marker(\"m1\", \"marker\", aperture=['circular', 1e-1])"
   ]
  },
  {
   "cell_type": "code",
   "execution_count": null,
   "id": "5e9806c9-243b-4d15-aede-b3fb7c2b95e4",
   "metadata": {},
   "outputs": [],
   "source": [
    "fodo_list = [qf, d1, b1, d1, qd, d1, b1, d1, m1]"
   ]
  },
  {
   "cell_type": "code",
   "execution_count": null,
   "id": "12770fab-01f4-4a5d-b57b-b374afd65205",
   "metadata": {},
   "outputs": [],
   "source": [
    "fodo = Beamline(\"fodo\", fodo_list)"
   ]
  },
  {
   "cell_type": "code",
   "execution_count": null,
   "id": "c21837ec-955e-425b-bded-588777e5dead",
   "metadata": {
    "tags": []
   },
   "outputs": [],
   "source": [
    "bldiagnostics = diagnostics.Beamline_diagnostics(\"beamline.h5\")"
   ]
  },
  {
   "cell_type": "code",
   "execution_count": null,
   "id": "419714d4-59e3-4de8-bcaf-783009049671",
   "metadata": {},
   "outputs": [],
   "source": [
    "bldiagnostics"
   ]
  },
  {
   "cell_type": "code",
   "execution_count": null,
   "id": "858097cc-0da2-44e1-9fc5-33d492fb70b1",
   "metadata": {},
   "outputs": [],
   "source": [
    "bldiagnostics.save_bunch_diagnostics(bunch)"
   ]
  },
  {
   "cell_type": "code",
   "execution_count": null,
   "id": "3e6b0297-2e11-4903-ba14-6c41349ffb7a",
   "metadata": {},
   "outputs": [],
   "source": [
    "h5file = open_file(\"beamline.h5\")"
   ]
  },
  {
   "cell_type": "code",
   "execution_count": null,
   "id": "28da5442-19e8-4be5-abfc-806ce21f29f0",
   "metadata": {},
   "outputs": [],
   "source": [
    "h5file.root"
   ]
  },
  {
   "cell_type": "code",
   "execution_count": null,
   "id": "585bf27d-c9f2-4304-8040-b727d8b0c6ca",
   "metadata": {},
   "outputs": [],
   "source": [
    "h5file.root.beamline.s"
   ]
  },
  {
   "cell_type": "code",
   "execution_count": null,
   "id": "92fb84ab-f646-4939-b828-ec68d3f64df6",
   "metadata": {},
   "outputs": [],
   "source": [
    "for i in h5file.root.beamline.s:\n",
    "    print (i)"
   ]
  },
  {
   "cell_type": "code",
   "execution_count": null,
   "id": "0f284369-bc47-44ef-bc24-b2c493465979",
   "metadata": {},
   "outputs": [],
   "source": [
    "h5file.close()"
   ]
  },
  {
   "cell_type": "markdown",
   "id": "81271c37-fcab-4912-899b-2544f2796061",
   "metadata": {
    "tags": []
   },
   "source": [
    "### Beamline Test"
   ]
  },
  {
   "cell_type": "code",
   "execution_count": null,
   "id": "af84f250-ec5a-4756-9f27-22bf8c3f11df",
   "metadata": {},
   "outputs": [],
   "source": [
    "if os.path.exists(\"beamline.h5\"):\n",
    "    os.remove(\"beamline.h5\")"
   ]
  },
  {
   "cell_type": "code",
   "execution_count": null,
   "id": "df32c4ee-e0fa-45c7-965d-a1a4015fb6da",
   "metadata": {},
   "outputs": [],
   "source": [
    "twiss_x = [-1.5, 10, 10e-6]\n",
    "twiss_y = [1.5, 10, 10e-6]\n",
    "\n",
    "bunch = Bunch('electron', 10, 4, 10000, twiss_x, twiss_y)"
   ]
  },
  {
   "cell_type": "code",
   "execution_count": null,
   "id": "34afd5e6-4763-4466-883b-aab7b07fd7ae",
   "metadata": {},
   "outputs": [],
   "source": [
    "particles = bunch.generate_transverse_matched_beam_distribution()"
   ]
  },
  {
   "cell_type": "code",
   "execution_count": null,
   "id": "b676cfdd-9136-499b-8976-1cedd17b1827",
   "metadata": {},
   "outputs": [],
   "source": [
    "fodo2 = Beamline(\"fodo\", fodo_list, True)"
   ]
  },
  {
   "cell_type": "code",
   "execution_count": null,
   "id": "096405f6-62ae-4520-a652-eef888afbfaf",
   "metadata": {},
   "outputs": [],
   "source": [
    "fodo2.propagate_beamline(bunch)"
   ]
  },
  {
   "cell_type": "code",
   "execution_count": null,
   "id": "92830c56-433b-439f-84d8-4ba9f365fe51",
   "metadata": {},
   "outputs": [],
   "source": [
    "h5file = open_file(\"beamline.h5\")"
   ]
  },
  {
   "cell_type": "code",
   "execution_count": null,
   "id": "965cc110-e18b-4a50-b1bd-a53cb4398d96",
   "metadata": {},
   "outputs": [],
   "source": [
    "h5file.root"
   ]
  },
  {
   "cell_type": "code",
   "execution_count": null,
   "id": "58758178-e47f-43cb-b6f0-8a871d92c201",
   "metadata": {},
   "outputs": [],
   "source": [
    "h5file.root.beamline.s"
   ]
  },
  {
   "cell_type": "code",
   "execution_count": null,
   "id": "1450d5bb-071b-478f-b28e-6b2da4799cec",
   "metadata": {},
   "outputs": [],
   "source": [
    "for i in h5file.root.beamline.s:\n",
    "    print (i)"
   ]
  },
  {
   "cell_type": "code",
   "execution_count": null,
   "id": "4d2426a0-3573-492b-aa19-41196d794cb8",
   "metadata": {},
   "outputs": [],
   "source": [
    "for i in h5file.root.twiss.emit_x:\n",
    "    print (i)"
   ]
  },
  {
   "cell_type": "code",
   "execution_count": null,
   "id": "c207b4fa-a53c-41bb-8f5e-3967a4e1b3a1",
   "metadata": {},
   "outputs": [],
   "source": [
    "for i in h5file.root.twiss.beta_x:\n",
    "    print (i)"
   ]
  },
  {
   "cell_type": "code",
   "execution_count": null,
   "id": "7abde8f4-3380-4041-99da-3a77e585d7b0",
   "metadata": {},
   "outputs": [],
   "source": [
    "h5file.root.twiss.beta_x"
   ]
  },
  {
   "cell_type": "code",
   "execution_count": null,
   "id": "bee807a7-b9e4-4165-b9de-d9133972eddc",
   "metadata": {},
   "outputs": [],
   "source": [
    "h5file.close()"
   ]
  },
  {
   "cell_type": "markdown",
   "id": "dfd797a2-8dc2-4222-81f2-b8f8ca43c1c6",
   "metadata": {},
   "source": [
    "## FODO Lattice Benchmarking"
   ]
  },
  {
   "cell_type": "code",
   "execution_count": null,
   "id": "3587a587-803f-49f3-985d-1997f25850a9",
   "metadata": {},
   "outputs": [],
   "source": [
    "if os.path.exists(\"beamline.h5\"):\n",
    "    os.remove(\"beamline.h5\")"
   ]
  },
  {
   "cell_type": "code",
   "execution_count": null,
   "id": "c95f6d67-5749-40c9-af63-1141c597081c",
   "metadata": {
    "tags": []
   },
   "outputs": [],
   "source": [
    "d1 = Drift(\"d1\", \"drift\", 0.55) #, aperture=['circular', 1e-1])\n",
    "b1 = Sbend(\"b1\", \"sbend\", 1.50, 22.5)\n",
    "qf = Quadrupole(\"qf\", \"quadrupole\", 0.4, 1.2) #, aperture=['circular', 5e-2])\n",
    "qd = Quadrupole(\"qd\", \"quadrupole\", 0.4, -1.2) #, aperture=['circular', 5e-2])\n",
    "m1 = Marker(\"m1\", \"marker\", aperture=['circular', 1e-1])"
   ]
  },
  {
   "cell_type": "code",
   "execution_count": null,
   "id": "951e0a1d-4d4c-46cf-8676-494907f68b90",
   "metadata": {},
   "outputs": [],
   "source": [
    "fodo_list = [qf, d1, b1, d1, qd, d1, b1, d1, m1]"
   ]
  },
  {
   "cell_type": "code",
   "execution_count": null,
   "id": "cff6b9ae-c043-4941-b0a1-4dc32320f393",
   "metadata": {},
   "outputs": [],
   "source": [
    "fodo = Beamline(\"fodo\", fodo_list, True)"
   ]
  },
  {
   "cell_type": "code",
   "execution_count": null,
   "id": "7fb50d2b-4125-4fc4-acfc-a2eaaf38d622",
   "metadata": {},
   "outputs": [],
   "source": [
    "fodo.get_num_beamline_elements()"
   ]
  },
  {
   "cell_type": "code",
   "execution_count": null,
   "id": "fe5f49ae-f623-4164-87f2-8434ff5bdd1e",
   "metadata": {},
   "outputs": [],
   "source": [
    "fodo.print_beamline()"
   ]
  },
  {
   "cell_type": "code",
   "execution_count": null,
   "id": "7c1abaf4-0bfb-4934-a288-c03aaa6457da",
   "metadata": {},
   "outputs": [],
   "source": [
    "twiss_x = [0, 9.818144678, 3.4187e-6]\n",
    "twiss_y = [0, 1.237442734, 3.4187e-6]\n",
    "\n",
    "bunch = Bunch('electron', 10, 4, 10000, twiss_x, twiss_y)"
   ]
  },
  {
   "cell_type": "code",
   "execution_count": null,
   "id": "90689f78-5b51-4af2-8c1a-9b23110831f0",
   "metadata": {},
   "outputs": [],
   "source": [
    "particles = bunch.generate_transverse_matched_beam_distribution()\n",
    "x = particles[0,:]\n",
    "xp = particles[1,:]\n",
    "y = particles[2,:]"
   ]
  },
  {
   "cell_type": "code",
   "execution_count": null,
   "id": "3cdd8fc1-c600-4199-96c1-a27e1a087e9a",
   "metadata": {},
   "outputs": [],
   "source": [
    "bunch.twiss_x"
   ]
  },
  {
   "cell_type": "code",
   "execution_count": null,
   "id": "323df545-2ff8-4058-a4cb-b577d3ec9705",
   "metadata": {},
   "outputs": [],
   "source": [
    "bunch.print_bunch_properties()"
   ]
  },
  {
   "cell_type": "code",
   "execution_count": null,
   "id": "64c8a13e-9def-4715-aa1c-7aa69344422d",
   "metadata": {
    "tags": []
   },
   "outputs": [],
   "source": [
    "fodo.propagate_beamline(bunch)"
   ]
  },
  {
   "cell_type": "code",
   "execution_count": null,
   "id": "db7d5197-664c-4508-b2c7-98b27592d8ac",
   "metadata": {},
   "outputs": [],
   "source": [
    "bunch.print_bunch_properties()"
   ]
  },
  {
   "cell_type": "code",
   "execution_count": null,
   "id": "39735d7a-24d0-490a-a224-23afa09476e8",
   "metadata": {},
   "outputs": [],
   "source": [
    "new_particles = bunch.state\n",
    "nx = new_particles[0,:]\n",
    "nxp = new_particles[1,:]\n",
    "ny = new_particles[2,:]"
   ]
  },
  {
   "cell_type": "code",
   "execution_count": null,
   "id": "e05fff08-6c0c-48f2-a563-4fa365ae04f3",
   "metadata": {},
   "outputs": [],
   "source": [
    "bunch.print_bunch_properties()"
   ]
  },
  {
   "cell_type": "code",
   "execution_count": null,
   "id": "cd9a2825-89a7-406a-85c4-ebf925e80b8a",
   "metadata": {},
   "outputs": [],
   "source": [
    "fig = plt.figure(figsize=(8,8))\n",
    "\n",
    "grid = plt.GridSpec(4, 4, hspace=0.2, wspace=0.2)\n",
    "main_ax = fig.add_subplot(grid[1:,:3])\n",
    "x_hist = fig.add_subplot(grid[0,:3], yticklabels=[], sharex=main_ax)\n",
    "y_hist = fig.add_subplot(grid[1:,3], xticklabels=[], sharey=main_ax)\n",
    "\n",
    "# scatter points on the main axes\n",
    "main_ax.scatter(x*1e3, xp*1e3, s=1)#, 'ob', markersize=3, alpha=0.2)\n",
    "main_ax.scatter(nx*1e3, nxp*1e3, s=1, c='r')#, 'ob', markersize=3, alpha=0.2)\n",
    "main_ax.set_xlabel(r'$x$ (mm)', fontsize=30)\n",
    "main_ax.set_ylabel(r'$x^{\\prime}$ (mrad)', fontsize=30)\n",
    "main_ax.grid()\n",
    "\n",
    "# histogram on the attached axes\n",
    "x_hist.hist(x*1e3, 100, histtype='step', orientation='vertical', color='b')\n",
    "y_hist.hist(xp*1e3, 100, histtype='step', orientation='horizontal', color='b')\n",
    "\n",
    "x_hist.hist(nx*1e3, 100, histtype='step', orientation='vertical', color='r')\n",
    "y_hist.hist(nxp*1e3, 100, histtype='step', orientation='horizontal', color='r')\n",
    "        \n",
    "plt.show()"
   ]
  },
  {
   "cell_type": "code",
   "execution_count": null,
   "id": "bb35afa8-d9ae-4594-986f-99fff352c28b",
   "metadata": {
    "tags": []
   },
   "outputs": [],
   "source": [
    "fig = plt.figure(figsize=(8,8))\n",
    "\n",
    "grid = plt.GridSpec(4, 4, hspace=0.2, wspace=0.2)\n",
    "main_ax = fig.add_subplot(grid[1:,:3])\n",
    "x_hist = fig.add_subplot(grid[0,:3], yticklabels=[], sharex=main_ax)\n",
    "y_hist = fig.add_subplot(grid[1:,3], xticklabels=[], sharey=main_ax)\n",
    "\n",
    "# scatter points on the main axes\n",
    "main_ax.scatter(x, y, s=1)#, 'ob', markersize=3, alpha=0.2)\n",
    "main_ax.scatter(nx, ny, s=1, c='r')#, 'ob', markersize=3, alpha=0.2)\n",
    "main_ax.set_xlabel(r'$x$', fontsize=30)\n",
    "main_ax.set_ylabel(r'$y$', fontsize=30)\n",
    "main_ax.grid()\n",
    "\n",
    "# histogram on the attached axes\n",
    "x_hist.hist(x, 100, histtype='step', orientation='vertical', color='b')\n",
    "y_hist.hist(y, 100, histtype='step', orientation='horizontal', color='b')\n",
    "\n",
    "x_hist.hist(nx, 100, histtype='step', orientation='vertical', color='r')\n",
    "y_hist.hist(ny, 100, histtype='step', orientation='horizontal', color='r')\n",
    "        \n",
    "plt.show()"
   ]
  },
  {
   "cell_type": "markdown",
   "id": "8b019600-5d00-455c-a1be-617d4bdb6b7f",
   "metadata": {
    "tags": []
   },
   "source": [
    "### FODO Lattice Benchmarking with Synergia2"
   ]
  },
  {
   "cell_type": "code",
   "execution_count": null,
   "id": "ead3f9af-05e8-4fdd-9975-bb2222ada096",
   "metadata": {},
   "outputs": [],
   "source": [
    "h5file = tables.open_file(\"syn_particles_0000.h5\")"
   ]
  },
  {
   "cell_type": "code",
   "execution_count": null,
   "id": "a37254db-f4cf-4aaf-9b24-7ef16fea2cf6",
   "metadata": {},
   "outputs": [],
   "source": [
    "syn_particles_x = h5file.root.particles[:,0]\n",
    "syn_particles_xp = h5file.root.particles[:,1]\n",
    "syn_particles_y = h5file.root.particles[:,2]"
   ]
  },
  {
   "cell_type": "code",
   "execution_count": null,
   "id": "f9e61da4-e8b9-4908-98a2-0d9541d9bbb6",
   "metadata": {},
   "outputs": [],
   "source": [
    "h5file.close()"
   ]
  },
  {
   "cell_type": "code",
   "execution_count": null,
   "id": "7d84fd98-4969-44ed-9601-2e12d9b38fc2",
   "metadata": {},
   "outputs": [],
   "source": [
    "fig = plt.figure(figsize=(8,8))\n",
    "\n",
    "grid = plt.GridSpec(4, 4, hspace=0.2, wspace=0.2)\n",
    "main_ax = fig.add_subplot(grid[1:,:3])\n",
    "x_hist = fig.add_subplot(grid[0,:3], yticklabels=[], sharex=main_ax)\n",
    "y_hist = fig.add_subplot(grid[1:,3], xticklabels=[], sharey=main_ax)\n",
    "\n",
    "# scatter points on the main axes\n",
    "main_ax.scatter(x*1e3, xp*1e3, s=1)#, 'ob', markersize=3, alpha=0.2)\n",
    "main_ax.scatter(syn_particles_x*1e3, syn_particles_xp*1e3, s=1, c='r')#, 'ob', markersize=3, alpha=0.2)\n",
    "main_ax.set_xlabel(r'$x$ (mm)', fontsize=30)\n",
    "main_ax.set_ylabel(r'$x^{\\prime}$ (mrad)', fontsize=30)\n",
    "main_ax.grid()\n",
    "\n",
    "# histogram on the attached axes\n",
    "x_hist.hist(x*1e3, 100, histtype='step', orientation='vertical', color='b')\n",
    "y_hist.hist(xp*1e3, 100, histtype='step', orientation='horizontal', color='b')\n",
    "\n",
    "x_hist.hist(syn_particles_x*1e3, 100, histtype='step', orientation='vertical', color='r')\n",
    "y_hist.hist(syn_particles_xp*1e3, 100, histtype='step', orientation='horizontal', color='r')\n",
    "        \n",
    "plt.show()"
   ]
  },
  {
   "cell_type": "code",
   "execution_count": null,
   "id": "98342aa8-c631-48f8-b588-6b059882ef18",
   "metadata": {
    "tags": []
   },
   "outputs": [],
   "source": [
    "fig = plt.figure(figsize=(8,8))\n",
    "\n",
    "grid = plt.GridSpec(4, 4, hspace=0.2, wspace=0.2)\n",
    "main_ax = fig.add_subplot(grid[1:,:3])\n",
    "x_hist = fig.add_subplot(grid[0,:3], yticklabels=[], sharex=main_ax)\n",
    "y_hist = fig.add_subplot(grid[1:,3], xticklabels=[], sharey=main_ax)\n",
    "\n",
    "# scatter points on the main axes\n",
    "main_ax.scatter(x, y, s=1)#, 'ob', markersize=3, alpha=0.2)\n",
    "main_ax.scatter(syn_particles_x, syn_particles_y, s=1, c='r')#, 'ob', markersize=3, alpha=0.2)\n",
    "main_ax.set_xlabel(r'$x$', fontsize=30)\n",
    "main_ax.set_ylabel(r'$y$', fontsize=30)\n",
    "main_ax.grid()\n",
    "\n",
    "# histogram on the attached axes\n",
    "x_hist.hist(x, 100, histtype='step', orientation='vertical', color='b')\n",
    "y_hist.hist(y, 100, histtype='step', orientation='horizontal', color='b')\n",
    "\n",
    "x_hist.hist(syn_particles_x, 100, histtype='step', orientation='vertical', color='r')\n",
    "y_hist.hist(syn_particles_y, 100, histtype='step', orientation='horizontal', color='r')\n",
    "        \n",
    "plt.show()"
   ]
  },
  {
   "cell_type": "code",
   "execution_count": null,
   "id": "b5b038e7-3fac-4443-a28a-18d2e6296f83",
   "metadata": {},
   "outputs": [],
   "source": [
    "h5file = open_file(\"beamline.h5\")"
   ]
  },
  {
   "cell_type": "code",
   "execution_count": null,
   "id": "86b74a35-530e-49cc-b0cd-d6cd44f56951",
   "metadata": {},
   "outputs": [],
   "source": [
    "h5file.root"
   ]
  },
  {
   "cell_type": "code",
   "execution_count": null,
   "id": "1da4f951-056e-401b-be74-2f401d390fe9",
   "metadata": {},
   "outputs": [],
   "source": [
    "s = []\n",
    "for i in h5file.root.beamline.s:\n",
    "    s.append(i)\n",
    "std_x = []\n",
    "for i in h5file.root.diagnostics.std_x:\n",
    "    std_x.append(i)\n",
    "std_y = []\n",
    "for i in h5file.root.diagnostics.std_y:\n",
    "    std_y.append(i)\n",
    "beta_x = []\n",
    "for i in h5file.root.twiss.beta_x:\n",
    "    beta_x.append(i)\n",
    "h5file.close()"
   ]
  },
  {
   "cell_type": "code",
   "execution_count": null,
   "id": "fd470099-e011-4d09-80d5-2fabdb040317",
   "metadata": {},
   "outputs": [],
   "source": [
    "h5file = tables.open_file(\"syn_diagnostics.h5\")\n",
    "syn_s = h5file.root.s_n[:]\n",
    "syn_x = h5file.root.std[0,:]\n",
    "syn_y = h5file.root.std[2,:]\n",
    "h5file.close()"
   ]
  },
  {
   "cell_type": "code",
   "execution_count": null,
   "id": "664515e7-325c-4097-86cf-ed44d059cc38",
   "metadata": {},
   "outputs": [],
   "source": [
    "print (len(syn_s), len(syn_x), len(syn_y))"
   ]
  },
  {
   "cell_type": "code",
   "execution_count": null,
   "id": "27ada8d7-a09b-4678-b628-d194df11731d",
   "metadata": {},
   "outputs": [],
   "source": [
    "plt.figure(1)\n",
    "\n",
    "plt.plot(s, std_x, 'r*-')\n",
    "plt.plot(s, std_y, 'g*--')\n",
    "plt.plot(syn_s, syn_x, 'bo-.')\n",
    "plt.plot(syn_s, syn_y, 'kx:')\n",
    "plt.xlabel(r\"$s$ (m)\", fontsize=20)\n",
    "plt.ylabel(r\"$\\sigma_{x}$ and $\\sigma_{y}$ (m)\", fontsize=20)\n",
    "plt.grid(1)\n",
    "plt.show()"
   ]
  },
  {
   "cell_type": "code",
   "execution_count": null,
   "id": "7540f978-d304-4b87-98d7-94a66ac69be1",
   "metadata": {},
   "outputs": [],
   "source": [
    "h5file = tables.open_file(\"syn_twiss.h5\")\n",
    "syn_s = h5file.root.s[:]\n",
    "syn_beta_x = h5file.root.beta_x[:]\n",
    "h5file.close()"
   ]
  },
  {
   "cell_type": "code",
   "execution_count": null,
   "id": "cb5ae620-385a-4de7-a399-176256b113fd",
   "metadata": {},
   "outputs": [],
   "source": [
    "plt.figure(1)\n",
    "\n",
    "plt.plot(s, beta_x, 'r*-')\n",
    "plt.plot(syn_s, syn_beta_x, 'bo-.')\n",
    "plt.xlabel(r\"$s$ (m)\", fontsize=20)\n",
    "plt.ylabel(r\"$\\beta_{x}$ (m)\", fontsize=20)\n",
    "plt.grid(1)\n",
    "plt.show()"
   ]
  },
  {
   "cell_type": "markdown",
   "id": "c26b0b90-ea41-4616-986a-8f4404e281f6",
   "metadata": {},
   "source": [
    "## RF Cavity"
   ]
  },
  {
   "cell_type": "markdown",
   "id": "3c74c8d2-1762-4653-b43d-a1666f869864",
   "metadata": {},
   "source": [
    "### Transfer Matrix of an RF Cavity"
   ]
  },
  {
   "cell_type": "code",
   "execution_count": 1,
   "id": "38a205c6-ff3f-4724-b6c7-a269ef252bc3",
   "metadata": {},
   "outputs": [],
   "source": [
    "import numpy as np\n",
    "from matplotlib import pyplot as plt\n",
    "import tables\n",
    "tables.file._open_files.close_all()"
   ]
  },
  {
   "cell_type": "code",
   "execution_count": 2,
   "id": "704a4a4a-1a33-4ae7-936f-47c817b9189f",
   "metadata": {
    "tags": []
   },
   "outputs": [],
   "source": [
    "from elements import *\n",
    "from beamline import Beamline\n",
    "from beam import Bunch"
   ]
  },
  {
   "cell_type": "code",
   "execution_count": 3,
   "id": "19660e0b-58da-4b97-8b54-f76d542a693a",
   "metadata": {},
   "outputs": [],
   "source": [
    "twiss_x = [-1.5, 10, 10e-6]\n",
    "twiss_y = [1.5, 10, 10e-6]\n",
    "\n",
    "bunch = Bunch('electron', 10, 4, 10000, twiss_x, twiss_y)\n",
    "particles = bunch.generate_transverse_matched_beam_distribution()\n",
    "\n",
    "x = particles[0, :]\n",
    "xp = particles[1, :]\n",
    "y = particles[2, :]"
   ]
  },
  {
   "cell_type": "code",
   "execution_count": 4,
   "id": "0f2da358-5b80-4593-bd06-b2beaeb1ad07",
   "metadata": {},
   "outputs": [
    {
     "name": "stdout",
     "output_type": "stream",
     "text": [
      "number of macro particles : 10000\n",
      "beta_x                    : 10 m\n",
      "alpha_x                   : -1.5 m^(1/2)\n",
      "emittance_x               : 9.963313571028021e-06 mm-mrad\n",
      "beta_y                    : 10 m\n",
      "alpha_y                   : 1.5 m^(1/2)\n",
      "emittance_y               : 9.929058130659136e-06 mm-mrad\n",
      "\n",
      "particle species          : electron\n",
      "particle charge           : -1\n",
      "particle mass             : 0.51099895 MeV/c^2\n",
      "particle energy           : 10 MeV\n",
      "particle momentum         : 9.98693546955716 MeV/c\n",
      "particle gamma            : 20.569511835591836\n",
      "particle beta             : 0.9988175606506312\n",
      "particle s                : 0\n"
     ]
    }
   ],
   "source": [
    "bunch.print_bunch_properties()"
   ]
  },
  {
   "cell_type": "code",
   "execution_count": 5,
   "id": "d3d000e4-b7b1-4bee-9f16-e23a9e25fc94",
   "metadata": {},
   "outputs": [],
   "source": [
    "rfcavity = Rfcavity(\"rfcav\", \"rfcavity\", length=1.0, strength=10, phase=0) #, freq=3e9)"
   ]
  },
  {
   "cell_type": "code",
   "execution_count": 6,
   "id": "4bb5c9b7-2154-41b1-9e13-5a70e8c90b7e",
   "metadata": {},
   "outputs": [
    {
     "name": "stdout",
     "output_type": "stream",
     "text": [
      "The element's phase is 0.0\n"
     ]
    },
    {
     "data": {
      "text/plain": [
       "0.0"
      ]
     },
     "execution_count": 6,
     "metadata": {},
     "output_type": "execute_result"
    }
   ],
   "source": [
    "rfcavity.get_element_property(\"phase\") * 180 / np.pi"
   ]
  },
  {
   "cell_type": "code",
   "execution_count": 7,
   "id": "a6ecc6f1-16bb-45ca-98b9-59fe9753d0a6",
   "metadata": {},
   "outputs": [
    {
     "data": {
      "text/plain": [
       "array([[ 0.87846566,  0.24815337,  0.        ,  0.        ],\n",
       "       [-0.0431639 ,  0.57116113,  0.        ,  0.        ],\n",
       "       [ 0.        ,  0.        ,  0.87846566,  0.24815337],\n",
       "       [ 0.        ,  0.        , -0.0431639 ,  0.57116113]])"
      ]
     },
     "execution_count": 7,
     "metadata": {},
     "output_type": "execute_result"
    }
   ],
   "source": [
    "rfcavity.get_transfer_matrix(bunch)"
   ]
  },
  {
   "cell_type": "code",
   "execution_count": 8,
   "id": "60d63620-c354-475e-8168-e4589cb933da",
   "metadata": {},
   "outputs": [
    {
     "name": "stdout",
     "output_type": "stream",
     "text": [
      "number of macro particles : 10000\n",
      "beta_x                    : 10 m\n",
      "alpha_x                   : -1.5 m^(1/2)\n",
      "emittance_x               : 9.963313571028021e-06 mm-mrad\n",
      "beta_y                    : 10 m\n",
      "alpha_y                   : 1.5 m^(1/2)\n",
      "emittance_y               : 9.929058130659136e-06 mm-mrad\n",
      "\n",
      "particle species          : electron\n",
      "particle charge           : -1\n",
      "particle mass             : 0.51099895 MeV/c^2\n",
      "particle energy           : 20.0 MeV\n",
      "particle momentum         : 19.99347093611059 MeV/c\n",
      "particle gamma            : 40.13902367118367\n",
      "particle beta             : 0.9996896128022548\n",
      "particle s                : 0\n"
     ]
    }
   ],
   "source": [
    "bunch.print_bunch_properties()"
   ]
  },
  {
   "cell_type": "code",
   "execution_count": 9,
   "id": "4bbf8ae9-0b1a-4c98-aa32-732cd4686e56",
   "metadata": {},
   "outputs": [],
   "source": [
    "twiss_x = [-1.5, 10, 10e-6]\n",
    "twiss_y = [1.5, 10, 10e-6]\n",
    "\n",
    "bunch = Bunch('electron', 10, 4, 10000, twiss_x, twiss_y)\n",
    "particles = bunch.generate_transverse_matched_beam_distribution()\n",
    "\n",
    "x = particles[0, :]\n",
    "xp = particles[1, :]\n",
    "y = particles[2, :]"
   ]
  },
  {
   "cell_type": "code",
   "execution_count": 10,
   "id": "09b3010c-f5e6-47f0-99bd-631fab832b04",
   "metadata": {},
   "outputs": [
    {
     "name": "stdout",
     "output_type": "stream",
     "text": [
      "number of macro particles : 10000\n",
      "beta_x                    : 10 m\n",
      "alpha_x                   : -1.5 m^(1/2)\n",
      "emittance_x               : 9.963313571028021e-06 mm-mrad\n",
      "beta_y                    : 10 m\n",
      "alpha_y                   : 1.5 m^(1/2)\n",
      "emittance_y               : 9.929058130659136e-06 mm-mrad\n",
      "\n",
      "particle species          : electron\n",
      "particle charge           : -1\n",
      "particle mass             : 0.51099895 MeV/c^2\n",
      "particle energy           : 10 MeV\n",
      "particle momentum         : 9.98693546955716 MeV/c\n",
      "particle gamma            : 20.569511835591836\n",
      "particle beta             : 0.9988175606506312\n",
      "particle s                : 0\n"
     ]
    }
   ],
   "source": [
    "bunch.print_bunch_properties()"
   ]
  },
  {
   "cell_type": "code",
   "execution_count": 11,
   "id": "f67059fa-62ac-409e-9753-a5bc5c000f93",
   "metadata": {},
   "outputs": [],
   "source": [
    "rfcavity.propagate(bunch)"
   ]
  },
  {
   "cell_type": "code",
   "execution_count": 12,
   "id": "d9ff0ea6-606c-4779-a561-e96ace463b35",
   "metadata": {},
   "outputs": [
    {
     "name": "stdout",
     "output_type": "stream",
     "text": [
      "number of macro particles : 10000\n",
      "beta_x                    : 8.391015341392135 m\n",
      "alpha_x                   : -0.40343530988580434 m^(1/2)\n",
      "emittance_x               : 5.1057668492346245e-06 mm-mrad\n",
      "beta_y                    : 7.083050057219886 m\n",
      "alpha_y                   : 1.0696672089766317 m^(1/2)\n",
      "emittance_y               : 5.08821241911512e-06 mm-mrad\n",
      "\n",
      "particle species          : electron\n",
      "particle charge           : -1\n",
      "particle mass             : 0.51099895 MeV/c^2\n",
      "particle energy           : 20.0 MeV\n",
      "particle momentum         : 19.99347093611059 MeV/c\n",
      "particle gamma            : 40.13902367118367\n",
      "particle beta             : 0.9996896128022548\n",
      "particle s                : 1.0\n"
     ]
    }
   ],
   "source": [
    "bunch.print_bunch_properties()"
   ]
  },
  {
   "cell_type": "code",
   "execution_count": 13,
   "id": "e60803a9-49f8-423a-9d65-c312d6365514",
   "metadata": {},
   "outputs": [],
   "source": [
    "new_particles = bunch.state\n",
    "nx = new_particles[0,:]\n",
    "nxp = new_particles[1,:]\n",
    "ny = new_particles[2,:]"
   ]
  },
  {
   "cell_type": "code",
   "execution_count": 14,
   "id": "6007d12f-0b8d-4024-bb2b-ee64248ded81",
   "metadata": {},
   "outputs": [
    {
     "data": {
      "image/png": "[encoded data removed]",
      "text/plain": [
       "<Figure size 800x800 with 3 Axes>"
      ]
     },
     "metadata": {},
     "output_type": "display_data"
    }
   ],
   "source": [
    "fig = plt.figure(figsize=(8,8))\n",
    "\n",
    "grid = plt.GridSpec(4, 4, hspace=0.2, wspace=0.2)\n",
    "main_ax = fig.add_subplot(grid[1:,:3])\n",
    "x_hist = fig.add_subplot(grid[0,:3], yticklabels=[], sharex=main_ax)\n",
    "y_hist = fig.add_subplot(grid[1:,3], xticklabels=[], sharey=main_ax)\n",
    "\n",
    "# scatter points on the main axes\n",
    "main_ax.scatter(x*1e3, xp*1e3, s=1)#, 'ob', markersize=3, alpha=0.2)\n",
    "main_ax.scatter(nx*1e3, nxp*1e3, s=1, c='r')#, 'ob', markersize=3, alpha=0.2)\n",
    "main_ax.set_xlabel(r'$x$ (mm)', fontsize=30)\n",
    "main_ax.set_ylabel(r'$x^{\\prime}$ (mrad)', fontsize=30)\n",
    "main_ax.grid()\n",
    "\n",
    "# histogram on the attached axes\n",
    "x_hist.hist(x*1e3, 100, histtype='step', orientation='vertical', color='b')\n",
    "y_hist.hist(xp*1e3, 100, histtype='step', orientation='horizontal', color='b')\n",
    "\n",
    "x_hist.hist(nx*1e3, 100, histtype='step', orientation='vertical', color='r')\n",
    "y_hist.hist(nxp*1e3, 100, histtype='step', orientation='horizontal', color='r')\n",
    "        \n",
    "plt.show()"
   ]
  },
  {
   "cell_type": "code",
   "execution_count": 15,
   "id": "c0f07a86-4835-4935-8fad-61aee46a80ea",
   "metadata": {
    "tags": []
   },
   "outputs": [
    {
     "data": {
      "image/png": "[encoded data removed]",
      "text/plain": [
       "<Figure size 800x800 with 3 Axes>"
      ]
     },
     "metadata": {},
     "output_type": "display_data"
    }
   ],
   "source": [
    "fig = plt.figure(figsize=(8,8))\n",
    "\n",
    "grid = plt.GridSpec(4, 4, hspace=0.2, wspace=0.2)\n",
    "main_ax = fig.add_subplot(grid[1:,:3])\n",
    "x_hist = fig.add_subplot(grid[0,:3], yticklabels=[], sharex=main_ax)\n",
    "y_hist = fig.add_subplot(grid[1:,3], xticklabels=[], sharey=main_ax)\n",
    "\n",
    "# scatter points on the main axes\n",
    "main_ax.scatter(x, y, s=1)#, 'ob', markersize=3, alpha=0.2)\n",
    "main_ax.scatter(nx, ny, s=1, c='r')#, 'ob', markersize=3, alpha=0.2)\n",
    "main_ax.set_xlabel(r'$x$', fontsize=30)\n",
    "main_ax.set_ylabel(r'$y$', fontsize=30)\n",
    "main_ax.grid()\n",
    "\n",
    "# histogram on the attached axes\n",
    "x_hist.hist(x, 100, histtype='step', orientation='vertical', color='b')\n",
    "y_hist.hist(y, 100, histtype='step', orientation='horizontal', color='b')\n",
    "\n",
    "x_hist.hist(nx, 100, histtype='step', orientation='vertical', color='r')\n",
    "y_hist.hist(ny, 100, histtype='step', orientation='horizontal', color='r')\n",
    "        \n",
    "plt.show()"
   ]
  },
  {
   "cell_type": "markdown",
   "id": "9046b52b-1103-4695-81d4-28f71cb63f8f",
   "metadata": {
    "tags": []
   },
   "source": [
    "### Slice an RF Cavity"
   ]
  },
  {
   "cell_type": "code",
   "execution_count": 9,
   "id": "e440dd9f-0773-4d89-ac81-ccfcc8727343",
   "metadata": {},
   "outputs": [],
   "source": [
    "twiss_x = [-1.5, 10, 10e-6]\n",
    "twiss_y = [1.5, 10, 10e-6]\n",
    "\n",
    "bunch = Bunch('electron', 10, 4, 10000, twiss_x, twiss_y)\n",
    "particles = bunch.generate_transverse_matched_beam_distribution()\n",
    "\n",
    "x = particles[0, :]\n",
    "xp = particles[1, :]\n",
    "y = particles[2, :]"
   ]
  },
  {
   "cell_type": "code",
   "execution_count": 16,
   "id": "372f5916-520e-45a1-b5ec-92399426ce7d",
   "metadata": {},
   "outputs": [],
   "source": [
    "sliced_rf_cavity = rfcavity.slice_element(4)"
   ]
  },
  {
   "cell_type": "code",
   "execution_count": 18,
   "id": "1cb30211-6960-4f6a-b844-243a99d6a7b9",
   "metadata": {},
   "outputs": [
    {
     "name": "stdout",
     "output_type": "stream",
     "text": [
      "element name     : rfcav_sliced_0\n",
      "element type     : rfcavity\n",
      "element length   : 0.25\n",
      "element strength : 10\n",
      "element aperture : Not defined\n",
      "None\n",
      "element name     : rfcav_sliced_1\n",
      "element type     : rfcavity\n",
      "element length   : 0.25\n",
      "element strength : 10\n",
      "element aperture : Not defined\n",
      "None\n",
      "element name     : rfcav_sliced_2\n",
      "element type     : rfcavity\n",
      "element length   : 0.25\n",
      "element strength : 10\n",
      "element aperture : Not defined\n",
      "None\n",
      "element name     : rfcav_sliced_3\n",
      "element type     : rfcavity\n",
      "element length   : 0.25\n",
      "element strength : 10\n",
      "element aperture : Not defined\n",
      "None\n"
     ]
    }
   ],
   "source": [
    "for i in sliced_rf_cavity:\n",
    "    print (i.print_element_properties())"
   ]
  },
  {
   "cell_type": "code",
   "execution_count": null,
   "id": "f23ccd9a-186e-448d-a689-eeea7f30a7b2",
   "metadata": {},
   "outputs": [],
   "source": []
  }
 ],
 "metadata": {
  "kernelspec": {
   "display_name": "Python 3 (ipykernel)",
   "language": "python",
   "name": "python3"
  },
  "language_info": {
   "codemirror_mode": {
    "name": "ipython",
    "version": 3
   },
   "file_extension": ".py",
   "mimetype": "text/x-python",
   "name": "python",
   "nbconvert_exporter": "python",
   "pygments_lexer": "ipython3",
   "version": "3.9.15"
  }
 },
 "nbformat": 4,
 "nbformat_minor": 5
}
