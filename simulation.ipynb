{
 "cells": [
  {
   "cell_type": "markdown",
   "id": "c1029c3e",
   "metadata": {},
   "source": [
    "# pylimons: Python Linac MOdeling aNd Simulation"
   ]
  },
  {
   "cell_type": "code",
   "execution_count": null,
   "id": "cb1cfd5f-8591-4c8d-80ee-f96a26167c82",
   "metadata": {},
   "outputs": [],
   "source": [
    "import numpy as np"
   ]
  },
  {
   "cell_type": "markdown",
   "id": "6730002d-5678-468e-81bb-0b4ce6beb2cf",
   "metadata": {},
   "source": [
    "## Utils"
   ]
  },
  {
   "cell_type": "code",
   "execution_count": null,
   "id": "a0f2304a",
   "metadata": {},
   "outputs": [],
   "source": [
    "import utils"
   ]
  },
  {
   "cell_type": "code",
   "execution_count": null,
   "id": "43ee6a4d-ade3-498a-a95d-0581e7fa13f2",
   "metadata": {},
   "outputs": [],
   "source": [
    "utils.h"
   ]
  },
  {
   "cell_type": "code",
   "execution_count": null,
   "id": "20cd6695-aaf9-4440-9b16-03c5ea4f0053",
   "metadata": {},
   "outputs": [],
   "source": [
    "from utils import physical_constants as pconstants"
   ]
  },
  {
   "cell_type": "code",
   "execution_count": null,
   "id": "362b3262-e62e-4aea-b05d-54bb08505602",
   "metadata": {},
   "outputs": [],
   "source": [
    "pconstants.c"
   ]
  },
  {
   "cell_type": "code",
   "execution_count": null,
   "id": "c13540df-a0e5-4640-9464-d7e95093c2b3",
   "metadata": {},
   "outputs": [],
   "source": [
    "pconstants.m_e"
   ]
  },
  {
   "cell_type": "markdown",
   "id": "0462b2bd-b87f-4019-b94f-f105b1c6b0d4",
   "metadata": {},
   "source": [
    "## Beam"
   ]
  },
  {
   "cell_type": "markdown",
   "id": "99584dba-0373-4c61-a0bf-6ba7dbd97890",
   "metadata": {},
   "source": [
    "### Particle Class"
   ]
  },
  {
   "cell_type": "code",
   "execution_count": null,
   "id": "070f3681-42ca-4ca5-8b80-257b009ceffa",
   "metadata": {},
   "outputs": [],
   "source": [
    "from beam import Particle"
   ]
  },
  {
   "cell_type": "code",
   "execution_count": null,
   "id": "5c5db0be-efd9-4281-8373-4a00be0091f5",
   "metadata": {},
   "outputs": [],
   "source": [
    "particle = Particle('electron', 10)"
   ]
  },
  {
   "cell_type": "code",
   "execution_count": null,
   "id": "e59b3800-23fe-4356-9db6-fa2a89f3f401",
   "metadata": {},
   "outputs": [],
   "source": [
    "particle.get_gamma()"
   ]
  },
  {
   "cell_type": "code",
   "execution_count": null,
   "id": "3e92ddfc-879b-4dfe-8014-d6840f70039a",
   "metadata": {},
   "outputs": [],
   "source": [
    "particle.get_momentum()"
   ]
  },
  {
   "cell_type": "code",
   "execution_count": null,
   "id": "2b2fdf7f-0c82-4a50-9cdb-258c73832cf1",
   "metadata": {},
   "outputs": [],
   "source": [
    "particle.print_properties()"
   ]
  },
  {
   "cell_type": "code",
   "execution_count": null,
   "id": "122801a4-b311-4fea-8c0a-568461db980b",
   "metadata": {},
   "outputs": [],
   "source": [
    "particle.update_energy(20)"
   ]
  },
  {
   "cell_type": "code",
   "execution_count": null,
   "id": "c1d5c14e-9374-4fa9-8665-c30856638191",
   "metadata": {},
   "outputs": [],
   "source": [
    "particle.print_properties()"
   ]
  },
  {
   "cell_type": "markdown",
   "id": "048ac574-7575-4c0a-b8d3-c09873c11441",
   "metadata": {},
   "source": [
    "### Bunch Class"
   ]
  },
  {
   "cell_type": "code",
   "execution_count": null,
   "id": "19801a3e-4ca0-4940-b283-30bc37a48d4c",
   "metadata": {},
   "outputs": [],
   "source": [
    "from beam import Bunch"
   ]
  },
  {
   "cell_type": "code",
   "execution_count": null,
   "id": "f4e077f2-7b27-45c5-b164-a8b173e69205",
   "metadata": {},
   "outputs": [],
   "source": [
    "twiss_x = [-1.5, 10, 10]\n",
    "twiss_y = [1.5, 10, 10]\n",
    "\n",
    "#Bunch(sepcies, energy, dimension, num_particles, twiss_x, twiss_y)\n",
    "\n",
    "bunch = Bunch('electron', 10, 4, 10000, twiss_x, twiss_y)"
   ]
  },
  {
   "cell_type": "code",
   "execution_count": null,
   "id": "c17c1681-1c00-4b84-bcdb-81f0b6479fc4",
   "metadata": {},
   "outputs": [],
   "source": [
    "particles = bunch.generate_transverse_matched_beam_distribution()\n",
    "print (particles.shape)"
   ]
  },
  {
   "cell_type": "code",
   "execution_count": null,
   "id": "e324ae70-b823-446b-b7fc-4a93a4a2d2c7",
   "metadata": {},
   "outputs": [],
   "source": [
    "bunch.particle.print_properties()"
   ]
  },
  {
   "cell_type": "code",
   "execution_count": null,
   "id": "4ecf5b20-a0e1-4c48-bd4d-e66735dcea3d",
   "metadata": {},
   "outputs": [],
   "source": [
    "bunch.print_properties()"
   ]
  },
  {
   "cell_type": "code",
   "execution_count": null,
   "id": "f8988946-8666-4eaf-a27a-edc80cec4994",
   "metadata": {},
   "outputs": [],
   "source": [
    "x = particles[0,:]\n",
    "xp = particles[1,:]"
   ]
  },
  {
   "cell_type": "code",
   "execution_count": null,
   "id": "3432f791-fa76-4c05-b319-78c5da3d847d",
   "metadata": {},
   "outputs": [],
   "source": [
    "from matplotlib import pyplot as plt"
   ]
  },
  {
   "cell_type": "code",
   "execution_count": null,
   "id": "f56d8e79-5f62-452b-ae83-2567cbaeb208",
   "metadata": {},
   "outputs": [],
   "source": [
    "fig = plt.figure(figsize=(8,8))\n",
    "\n",
    "grid = plt.GridSpec(4, 4, hspace=0.2, wspace=0.2)\n",
    "main_ax = fig.add_subplot(grid[1:,:3])\n",
    "x_hist = fig.add_subplot(grid[0,:3], yticklabels=[], sharex=main_ax)\n",
    "y_hist = fig.add_subplot(grid[1:,3], xticklabels=[], sharey=main_ax)\n",
    "\n",
    "# scatter points on the main axes\n",
    "main_ax.scatter(x, xp, s=1)#, 'ob', markersize=3, alpha=0.2)\n",
    "main_ax.set_xlabel(r'$x$', fontsize=30)\n",
    "main_ax.set_ylabel(r'$x^{\\prime}$', fontsize=30)\n",
    "main_ax.grid()\n",
    "\n",
    "# histogram on the attached axes\n",
    "x_hist.hist(x, 100, histtype='step', orientation='vertical', color='b')\n",
    "y_hist.hist(xp, 100, histtype='step', orientation='horizontal', color='b')\n",
    "        \n",
    "plt.show()"
   ]
  },
  {
   "cell_type": "markdown",
   "id": "832aeffb-f25f-4f82-8de5-6dddce535edb",
   "metadata": {},
   "source": [
    "## Elements"
   ]
  },
  {
   "cell_type": "markdown",
   "id": "24f3c63b-432e-41b4-abaf-8164085738fb",
   "metadata": {},
   "source": [
    "### Element Class (Parent Class)"
   ]
  },
  {
   "cell_type": "code",
   "execution_count": null,
   "id": "5aad3d8e-67d7-4710-8ae4-f59bc7e527f5",
   "metadata": {},
   "outputs": [],
   "source": [
    "from elements import Element"
   ]
  },
  {
   "cell_type": "code",
   "execution_count": null,
   "id": "553fc9ca-3e5f-4860-b405-292ffd2adb6b",
   "metadata": {},
   "outputs": [],
   "source": [
    "quad = Element(\"qf\", \"quadrupole\", 0.2, 20)"
   ]
  },
  {
   "cell_type": "code",
   "execution_count": null,
   "id": "f25bce7a-b0f2-4de6-8a30-faf515a57ef3",
   "metadata": {},
   "outputs": [],
   "source": [
    "quad.print_properties()"
   ]
  },
  {
   "cell_type": "code",
   "execution_count": null,
   "id": "1f75c1d1-7e46-487a-8b65-9d0ef1c25220",
   "metadata": {},
   "outputs": [],
   "source": [
    "quad2 = quad.element_copy(\"quad2\")"
   ]
  },
  {
   "cell_type": "code",
   "execution_count": null,
   "id": "11966682-0caf-415b-8c21-d603c145ec44",
   "metadata": {},
   "outputs": [],
   "source": [
    "quad2.set_element_property(length=0.4)"
   ]
  },
  {
   "cell_type": "code",
   "execution_count": null,
   "id": "5750c69f-c816-4efe-b4dc-fc7eb9d96a6d",
   "metadata": {},
   "outputs": [],
   "source": [
    "quad2.get_element_property(\"length\")"
   ]
  },
  {
   "cell_type": "code",
   "execution_count": null,
   "id": "e7cc52b2-525c-480d-9e07-994d3743aa43",
   "metadata": {},
   "outputs": [],
   "source": [
    "quad2.print_properties()"
   ]
  },
  {
   "cell_type": "markdown",
   "id": "b4bc89ac-7dda-45c1-9ec9-b4c1fdc3c184",
   "metadata": {},
   "source": [
    "### Drift Class (Child Class)"
   ]
  },
  {
   "cell_type": "code",
   "execution_count": null,
   "id": "1b730d13-7456-44df-a9c9-207ca6eedccb",
   "metadata": {},
   "outputs": [],
   "source": [
    "from elements import Drift"
   ]
  },
  {
   "cell_type": "code",
   "execution_count": null,
   "id": "bc5478fe-947f-48cc-8400-43f9c2b7ddb0",
   "metadata": {},
   "outputs": [],
   "source": [
    "d1 = Drift(\"d1\", \"drift\", 10)"
   ]
  },
  {
   "cell_type": "code",
   "execution_count": null,
   "id": "55735831-3f4d-41c3-aed5-fcece172beec",
   "metadata": {},
   "outputs": [],
   "source": [
    "d1.print_properties()"
   ]
  },
  {
   "cell_type": "code",
   "execution_count": null,
   "id": "be85795d-93ed-4624-8f2c-123c1142cd7f",
   "metadata": {},
   "outputs": [],
   "source": [
    "d1.set_element_property(length=20)\n",
    "d1.get_element_property(\"length\")"
   ]
  },
  {
   "cell_type": "code",
   "execution_count": null,
   "id": "769b592e-8024-4b3d-8ac3-e80b290c95c7",
   "metadata": {},
   "outputs": [],
   "source": [
    "matd1 = d1.get_transfer_matrix()\n",
    "print (matd1)"
   ]
  },
  {
   "cell_type": "code",
   "execution_count": null,
   "id": "9be270b6-58bf-4e3d-be17-22d5c2ab1e5f",
   "metadata": {},
   "outputs": [],
   "source": [
    "new_particles = d1.propagate(particles)"
   ]
  },
  {
   "cell_type": "code",
   "execution_count": null,
   "id": "268289cc-be36-4ac4-a3ce-35b103c80fe1",
   "metadata": {},
   "outputs": [],
   "source": [
    "print (matd1.shape, particles.shape)"
   ]
  },
  {
   "cell_type": "code",
   "execution_count": null,
   "id": "3ee39337-d1fc-4fef-a10e-b8fb7f05d571",
   "metadata": {},
   "outputs": [],
   "source": [
    "new_particles.shape"
   ]
  },
  {
   "cell_type": "code",
   "execution_count": null,
   "id": "f799204e-9691-4405-8eb2-df1925a0d4d1",
   "metadata": {},
   "outputs": [],
   "source": [
    "nx = new_particles[0,:]\n",
    "nxp = new_particles[1,:]"
   ]
  },
  {
   "cell_type": "code",
   "execution_count": null,
   "id": "b7403e9c-e884-405f-9698-a006216dcb08",
   "metadata": {},
   "outputs": [],
   "source": [
    "fig = plt.figure(figsize=(8,8))\n",
    "\n",
    "grid = plt.GridSpec(4, 4, hspace=0.2, wspace=0.2)\n",
    "main_ax = fig.add_subplot(grid[1:,:3])\n",
    "x_hist = fig.add_subplot(grid[0,:3], yticklabels=[], sharex=main_ax)\n",
    "y_hist = fig.add_subplot(grid[1:,3], xticklabels=[], sharey=main_ax)\n",
    "\n",
    "# scatter points on the main axes\n",
    "main_ax.scatter(x, xp, s=1)#, 'ob', markersize=3, alpha=0.2)\n",
    "main_ax.scatter(nx, nxp, s=1, c='r')#, 'ob', markersize=3, alpha=0.2)\n",
    "main_ax.set_xlabel(r'$x$', fontsize=30)\n",
    "main_ax.set_ylabel(r'$x^{\\prime}$', fontsize=30)\n",
    "main_ax.grid()\n",
    "\n",
    "# histogram on the attached axes\n",
    "x_hist.hist(x, 100, histtype='step', orientation='vertical', color='b')\n",
    "y_hist.hist(xp, 100, histtype='step', orientation='horizontal', color='b')\n",
    "\n",
    "x_hist.hist(nx, 100, histtype='step', orientation='vertical', color='r')\n",
    "y_hist.hist(nxp, 100, histtype='step', orientation='horizontal', color='r')\n",
    "        \n",
    "plt.show()"
   ]
  },
  {
   "cell_type": "markdown",
   "id": "00be1991-d2ad-4047-a64a-fcecf3c5175a",
   "metadata": {},
   "source": [
    "### SBend Class"
   ]
  },
  {
   "cell_type": "code",
   "execution_count": null,
   "id": "8b14ea38-1dd4-4ee9-afc6-796d48e6ff44",
   "metadata": {},
   "outputs": [],
   "source": [
    "from elements import Sbend"
   ]
  },
  {
   "cell_type": "code",
   "execution_count": null,
   "id": "56ec517d-c813-4466-adff-7987d98a114c",
   "metadata": {},
   "outputs": [],
   "source": [
    "b1 = Sbend(\"b1\", \"sbend\", 1.5, 22.5)"
   ]
  },
  {
   "cell_type": "code",
   "execution_count": null,
   "id": "7c27fd91-96a5-4dde-b9c5-9c08fed5f432",
   "metadata": {},
   "outputs": [],
   "source": [
    "b1.print_properties()"
   ]
  },
  {
   "cell_type": "code",
   "execution_count": null,
   "id": "62314cd2-ce34-4561-897c-7500d1302897",
   "metadata": {},
   "outputs": [],
   "source": [
    "b1.get_element_property(\"length\")\n",
    "b1.get_element_property(\"strength\")\n",
    "b1.get_element_property(\"angle\")\n",
    "b1.get_element_property(\"phi\")"
   ]
  },
  {
   "cell_type": "code",
   "execution_count": null,
   "id": "4c5ef59f-4029-4580-8af7-393bf55d5b0d",
   "metadata": {},
   "outputs": [],
   "source": [
    "matb1 = b1.get_transfer_matrix()\n",
    "print (matb1)"
   ]
  },
  {
   "cell_type": "code",
   "execution_count": null,
   "id": "97d3ced1-d522-4f6d-a708-529bf5a27e92",
   "metadata": {},
   "outputs": [],
   "source": [
    "import numpy as np"
   ]
  },
  {
   "cell_type": "code",
   "execution_count": null,
   "id": "e45d500b-b38d-43fe-986a-58e53ab0bffe",
   "metadata": {},
   "outputs": [],
   "source": [
    "np.linalg.det(matb1[0:2,0:2])"
   ]
  },
  {
   "cell_type": "code",
   "execution_count": null,
   "id": "210b9ac6-2b34-4e93-aafe-7dd0330193b3",
   "metadata": {},
   "outputs": [],
   "source": [
    "from beam import Bunch\n",
    "from matplotlib import pyplot as plt"
   ]
  },
  {
   "cell_type": "code",
   "execution_count": null,
   "id": "084a5526-4f28-4b3f-a127-0f9eb1992a24",
   "metadata": {},
   "outputs": [],
   "source": [
    "twiss_x = [-1.5, 10, 10]\n",
    "twiss_y = [1.5, 10, 10]\n",
    "\n",
    "bunch = Bunch('electron', 10, 4, 10000, twiss_x, twiss_y)\n",
    "particles = bunch.generate_transverse_matched_beam_distribution()"
   ]
  },
  {
   "cell_type": "code",
   "execution_count": null,
   "id": "60ed0b7c-22c4-4403-bf0e-9929f0a20696",
   "metadata": {},
   "outputs": [],
   "source": [
    "x = particles[0,:]\n",
    "xp = particles[1,:]"
   ]
  },
  {
   "cell_type": "code",
   "execution_count": null,
   "id": "4baf7e65-954c-4db4-bdcc-2c396263e35c",
   "metadata": {},
   "outputs": [],
   "source": [
    "new_particles = b1.propagate(particles)"
   ]
  },
  {
   "cell_type": "code",
   "execution_count": null,
   "id": "2d7ab968-f43f-40a8-85b8-d7b0be4c0e91",
   "metadata": {},
   "outputs": [],
   "source": [
    "print (matb1.shape, particles.shape)"
   ]
  },
  {
   "cell_type": "code",
   "execution_count": null,
   "id": "3672f314-702e-4304-8ebd-700d56cb3f20",
   "metadata": {},
   "outputs": [],
   "source": [
    "new_particles.shape"
   ]
  },
  {
   "cell_type": "code",
   "execution_count": null,
   "id": "b9f8b84e-adeb-430b-ba07-0a7742aaed2a",
   "metadata": {},
   "outputs": [],
   "source": [
    "nx = new_particles[0,:]\n",
    "nxp = new_particles[1,:]"
   ]
  },
  {
   "cell_type": "code",
   "execution_count": null,
   "id": "e6108701-ec4b-48f8-b7e4-0090c3a9c8f7",
   "metadata": {},
   "outputs": [],
   "source": [
    "fig = plt.figure(figsize=(8,8))\n",
    "\n",
    "grid = plt.GridSpec(4, 4, hspace=0.2, wspace=0.2)\n",
    "main_ax = fig.add_subplot(grid[1:,:3])\n",
    "x_hist = fig.add_subplot(grid[0,:3], yticklabels=[], sharex=main_ax)\n",
    "y_hist = fig.add_subplot(grid[1:,3], xticklabels=[], sharey=main_ax)\n",
    "\n",
    "# scatter points on the main axes\n",
    "main_ax.scatter(x, xp, s=1)#, 'ob', markersize=3, alpha=0.2)\n",
    "main_ax.scatter(nx, nxp, s=1, c='r')#, 'ob', markersize=3, alpha=0.2)\n",
    "main_ax.set_xlabel(r'$x$', fontsize=30)\n",
    "main_ax.set_ylabel(r'$x^{\\prime}$', fontsize=30)\n",
    "main_ax.grid()\n",
    "\n",
    "# histogram on the attached axes\n",
    "x_hist.hist(x, 100, histtype='step', orientation='vertical', color='b')\n",
    "y_hist.hist(xp, 100, histtype='step', orientation='horizontal', color='b')\n",
    "\n",
    "x_hist.hist(nx, 100, histtype='step', orientation='vertical', color='r')\n",
    "y_hist.hist(nxp, 100, histtype='step', orientation='horizontal', color='r')\n",
    "        \n",
    "plt.show()"
   ]
  },
  {
   "cell_type": "markdown",
   "id": "c04ae4b1-b4df-49e6-86c1-122e7987baca",
   "metadata": {},
   "source": [
    "###  Quadrupole Class"
   ]
  },
  {
   "cell_type": "code",
   "execution_count": null,
   "id": "9c4e239e-522b-43ce-8685-ddf86f1df2de",
   "metadata": {},
   "outputs": [],
   "source": [
    "from elements import Quadrupole"
   ]
  },
  {
   "cell_type": "code",
   "execution_count": null,
   "id": "4b21a21f-bbfd-4d64-950d-4a9e2583c3cf",
   "metadata": {},
   "outputs": [],
   "source": [
    "qf = Quadrupole(\"qf\", \"quadrupole\", 0.4, 1.2)\n",
    "qd = Quadrupole(\"qd\", \"quadrupole\", 0.4, -1.2)"
   ]
  },
  {
   "cell_type": "code",
   "execution_count": null,
   "id": "d7503ff2-13bd-4b79-9b1f-a6d8cf9013d5",
   "metadata": {},
   "outputs": [],
   "source": [
    "qf.print_properties()"
   ]
  },
  {
   "cell_type": "code",
   "execution_count": null,
   "id": "048b1668-7ad4-4eba-ad4d-2f88e0cdf9dd",
   "metadata": {},
   "outputs": [],
   "source": [
    "qd.print_properties()"
   ]
  },
  {
   "cell_type": "code",
   "execution_count": null,
   "id": "9ce7c923-93a7-4aa5-8ae0-fdfd18d3e4a3",
   "metadata": {},
   "outputs": [],
   "source": [
    "qf.get_element_property(\"length\")\n",
    "qf.get_element_property(\"strength\")\n",
    "qf.get_element_property(\"k1\")"
   ]
  },
  {
   "cell_type": "code",
   "execution_count": null,
   "id": "364182f6-088a-4afa-81fc-8fd084569ca6",
   "metadata": {},
   "outputs": [],
   "source": [
    "qd.get_element_property(\"length\")\n",
    "qd.get_element_property(\"strength\")\n",
    "qd.get_element_property(\"k1\")"
   ]
  },
  {
   "cell_type": "code",
   "execution_count": null,
   "id": "f4efd4a2-4012-4553-9a2c-b8b2aa324da4",
   "metadata": {},
   "outputs": [],
   "source": [
    "matqf = qf.get_transfer_matrix()\n",
    "print (matqf)"
   ]
  },
  {
   "cell_type": "code",
   "execution_count": null,
   "id": "4c190ee7-ecf7-4aa6-b639-58097c69d56a",
   "metadata": {},
   "outputs": [],
   "source": [
    "matqd = qd.get_transfer_matrix()\n",
    "print (matqd)"
   ]
  },
  {
   "cell_type": "code",
   "execution_count": null,
   "id": "e994e7da-1bc7-4c46-b679-386c8e12b448",
   "metadata": {},
   "outputs": [],
   "source": [
    "import numpy as np"
   ]
  },
  {
   "cell_type": "code",
   "execution_count": null,
   "id": "5140f53b-a75d-4231-a10f-a9ce3975c346",
   "metadata": {},
   "outputs": [],
   "source": [
    "print (np.linalg.det(matqf[0:2, 0:2]), np.linalg.det(matqf[2:4, 2:4]), np.linalg.det(matqd[0:2, 0:2]), np.linalg.det(matqd[2:4, 2:4]))"
   ]
  },
  {
   "cell_type": "code",
   "execution_count": null,
   "id": "137acf81-ae05-405f-bc85-1b07225570e0",
   "metadata": {},
   "outputs": [],
   "source": [
    "from beam import Bunch\n",
    "from matplotlib import pyplot as plt"
   ]
  },
  {
   "cell_type": "code",
   "execution_count": null,
   "id": "417a5a63-4662-40bb-a899-0dc3530a7149",
   "metadata": {},
   "outputs": [],
   "source": [
    "twiss_x = [-1.5, 10, 10]\n",
    "twiss_y = [1.5, 10, 10]\n",
    "\n",
    "bunch = Bunch('electron', 10, 4, 10000, twiss_x, twiss_y)\n",
    "particles = bunch.generate_transverse_matched_beam_distribution()"
   ]
  },
  {
   "cell_type": "code",
   "execution_count": null,
   "id": "845345e5-d633-4854-a7a0-91423799d4cf",
   "metadata": {},
   "outputs": [],
   "source": [
    "x = particles[0,:]\n",
    "xp = particles[1,:]"
   ]
  },
  {
   "cell_type": "code",
   "execution_count": null,
   "id": "af19f158-c389-4755-aa9e-628d5535f10b",
   "metadata": {},
   "outputs": [],
   "source": [
    "new_particles = qf.propagate(particles)"
   ]
  },
  {
   "cell_type": "code",
   "execution_count": null,
   "id": "2248537b-b51e-47ef-917b-e2ffe7e27c20",
   "metadata": {},
   "outputs": [],
   "source": [
    "print (matqf.shape, particles.shape)"
   ]
  },
  {
   "cell_type": "code",
   "execution_count": null,
   "id": "660e5baa-3514-44de-a060-a1fb93c2c543",
   "metadata": {},
   "outputs": [],
   "source": [
    "new_particles.shape"
   ]
  },
  {
   "cell_type": "code",
   "execution_count": null,
   "id": "4d5cc4c2-8295-48ee-b773-0ec43a0edafd",
   "metadata": {},
   "outputs": [],
   "source": [
    "nx = new_particles[0,:]\n",
    "nxp = new_particles[1,:]"
   ]
  },
  {
   "cell_type": "code",
   "execution_count": null,
   "id": "55531a68-9e51-467e-8cf6-205e572c36a5",
   "metadata": {},
   "outputs": [],
   "source": [
    "fig = plt.figure(figsize=(8,8))\n",
    "\n",
    "grid = plt.GridSpec(4, 4, hspace=0.2, wspace=0.2)\n",
    "main_ax = fig.add_subplot(grid[1:,:3])\n",
    "x_hist = fig.add_subplot(grid[0,:3], yticklabels=[], sharex=main_ax)\n",
    "y_hist = fig.add_subplot(grid[1:,3], xticklabels=[], sharey=main_ax)\n",
    "\n",
    "# scatter points on the main axes\n",
    "main_ax.scatter(x, xp, s=1)#, 'ob', markersize=3, alpha=0.2)\n",
    "main_ax.scatter(nx, nxp, s=1, c='r')#, 'ob', markersize=3, alpha=0.2)\n",
    "main_ax.set_xlabel(r'$x$', fontsize=30)\n",
    "main_ax.set_ylabel(r'$x^{\\prime}$', fontsize=30)\n",
    "main_ax.grid()\n",
    "\n",
    "# histogram on the attached axes\n",
    "x_hist.hist(x, 100, histtype='step', orientation='vertical', color='b')\n",
    "y_hist.hist(xp, 100, histtype='step', orientation='horizontal', color='b')\n",
    "\n",
    "x_hist.hist(nx, 100, histtype='step', orientation='vertical', color='r')\n",
    "y_hist.hist(nxp, 100, histtype='step', orientation='horizontal', color='r')\n",
    "        \n",
    "plt.show()"
   ]
  },
  {
   "cell_type": "code",
   "execution_count": null,
   "id": "074a6b2c-13dc-49e0-9847-2161f5f910e4",
   "metadata": {},
   "outputs": [],
   "source": [
    "twiss_x = [-1.5, 10, 10]\n",
    "twiss_y = [1.5, 10, 10]\n",
    "\n",
    "bunch = Bunch('electron', 10, 4, 10000, twiss_x, twiss_y)\n",
    "particles = bunch.generate_transverse_matched_beam_distribution()"
   ]
  },
  {
   "cell_type": "code",
   "execution_count": null,
   "id": "bbae8b2e-b357-4ec9-b681-08841ffff4a4",
   "metadata": {},
   "outputs": [],
   "source": [
    "x = particles[0,:]\n",
    "xp = particles[1,:]"
   ]
  },
  {
   "cell_type": "code",
   "execution_count": null,
   "id": "ae0c41ec-b061-49c7-a636-085441ced867",
   "metadata": {},
   "outputs": [],
   "source": [
    "new_particles = qd.propagate(particles)"
   ]
  },
  {
   "cell_type": "code",
   "execution_count": null,
   "id": "9330b718-6e1a-4a5b-830f-a79b9b663580",
   "metadata": {},
   "outputs": [],
   "source": [
    "print (matqd.shape, particles.shape)"
   ]
  },
  {
   "cell_type": "code",
   "execution_count": null,
   "id": "02210229-e046-4e9a-a347-f44ded127a9b",
   "metadata": {},
   "outputs": [],
   "source": [
    "new_particles.shape"
   ]
  },
  {
   "cell_type": "code",
   "execution_count": null,
   "id": "2914f101-ac19-4145-a4ee-6582c14070b6",
   "metadata": {},
   "outputs": [],
   "source": [
    "nx = new_particles[0,:]\n",
    "nxp = new_particles[1,:]"
   ]
  },
  {
   "cell_type": "code",
   "execution_count": null,
   "id": "6fd1516d-cc7d-4208-a9c6-2444b927a79d",
   "metadata": {},
   "outputs": [],
   "source": [
    "fig = plt.figure(figsize=(8,8))\n",
    "\n",
    "grid = plt.GridSpec(4, 4, hspace=0.2, wspace=0.2)\n",
    "main_ax = fig.add_subplot(grid[1:,:3])\n",
    "x_hist = fig.add_subplot(grid[0,:3], yticklabels=[], sharex=main_ax)\n",
    "y_hist = fig.add_subplot(grid[1:,3], xticklabels=[], sharey=main_ax)\n",
    "\n",
    "# scatter points on the main axes\n",
    "main_ax.scatter(x, xp, s=1)#, 'ob', markersize=3, alpha=0.2)\n",
    "main_ax.scatter(nx, nxp, s=1, c='r')#, 'ob', markersize=3, alpha=0.2)\n",
    "main_ax.set_xlabel(r'$x$', fontsize=30)\n",
    "main_ax.set_ylabel(r'$x^{\\prime}$', fontsize=30)\n",
    "main_ax.grid()\n",
    "\n",
    "# histogram on the attached axes\n",
    "x_hist.hist(x, 100, histtype='step', orientation='vertical', color='b')\n",
    "y_hist.hist(xp, 100, histtype='step', orientation='horizontal', color='b')\n",
    "\n",
    "x_hist.hist(nx, 100, histtype='step', orientation='vertical', color='r')\n",
    "y_hist.hist(nxp, 100, histtype='step', orientation='horizontal', color='r')\n",
    "        \n",
    "plt.show()"
   ]
  },
  {
   "cell_type": "markdown",
   "id": "dc615c14-0089-42a3-8a7f-b3a8bac1611d",
   "metadata": {},
   "source": [
    "### Solenoid Class"
   ]
  },
  {
   "cell_type": "code",
   "execution_count": null,
   "id": "fb957286-2392-4220-9ca7-fc1d15c71b03",
   "metadata": {},
   "outputs": [],
   "source": [
    "from elements import Solenoid"
   ]
  },
  {
   "cell_type": "code",
   "execution_count": null,
   "id": "823e881e-baf0-415c-90f7-cf72bc8e40aa",
   "metadata": {},
   "outputs": [],
   "source": [
    "s1 = Solenoid(\"s1\", \"solenoid\", 2.0, 0.5)"
   ]
  },
  {
   "cell_type": "code",
   "execution_count": null,
   "id": "7293e7c5-2c51-442b-b5db-710dcd8abe85",
   "metadata": {},
   "outputs": [],
   "source": [
    "s1.print_properties()"
   ]
  },
  {
   "cell_type": "code",
   "execution_count": null,
   "id": "d46d9b44-c623-4bd8-be64-cd5da44686fb",
   "metadata": {},
   "outputs": [],
   "source": [
    "s1.get_element_property(\"length\")\n",
    "s1.get_element_property(\"strength\")\n",
    "s1.get_element_property(\"ks\")"
   ]
  },
  {
   "cell_type": "code",
   "execution_count": null,
   "id": "b5c576f0-9031-4548-b661-5c5b16c734f3",
   "metadata": {},
   "outputs": [],
   "source": [
    "mats1 = s1.get_transfer_matrix()\n",
    "print (mats1)"
   ]
  },
  {
   "cell_type": "code",
   "execution_count": null,
   "id": "97baf2f3-714b-4739-9543-def668663e00",
   "metadata": {},
   "outputs": [],
   "source": [
    "import numpy as np"
   ]
  },
  {
   "cell_type": "code",
   "execution_count": null,
   "id": "7182eece-37c5-4f68-9556-f9b0ce88fd25",
   "metadata": {},
   "outputs": [],
   "source": [
    "print(np.linalg.det(mats1[0:2, 0:2]), np.linalg.det(mats1[2:4, 2:4]))"
   ]
  },
  {
   "cell_type": "code",
   "execution_count": null,
   "id": "b967dd80-6578-46ff-bd5a-6d915b6994af",
   "metadata": {},
   "outputs": [],
   "source": [
    "from beam import Bunch\n",
    "from matplotlib import pyplot as plt"
   ]
  },
  {
   "cell_type": "code",
   "execution_count": null,
   "id": "04168483-7fda-49cf-a750-795f6a435d58",
   "metadata": {},
   "outputs": [],
   "source": [
    "twiss_x = [-1.5, 10, 10]\n",
    "twiss_y = [1.5, 10, 10]\n",
    "\n",
    "bunch = Bunch('electron', 10, 4, 10000, twiss_x, twiss_y)\n",
    "particles = bunch.generate_transverse_matched_beam_distribution()"
   ]
  },
  {
   "cell_type": "code",
   "execution_count": null,
   "id": "684a3794-a7c4-4b1f-b6b3-15946053f46f",
   "metadata": {},
   "outputs": [],
   "source": [
    "x = particles[0,:]\n",
    "y = particles[2,:]"
   ]
  },
  {
   "cell_type": "code",
   "execution_count": null,
   "id": "5335d950-db50-41c9-afc8-fcf390410c81",
   "metadata": {},
   "outputs": [],
   "source": [
    "new_particles = s1.propagate(particles)"
   ]
  },
  {
   "cell_type": "code",
   "execution_count": null,
   "id": "deace18c-c7e7-402a-a257-43574790881d",
   "metadata": {},
   "outputs": [],
   "source": [
    "print (mats1.shape, particles.shape)"
   ]
  },
  {
   "cell_type": "code",
   "execution_count": null,
   "id": "1f207cd8-a4b3-4c13-9938-e6205d7cc6b2",
   "metadata": {},
   "outputs": [],
   "source": [
    "new_particles.shape"
   ]
  },
  {
   "cell_type": "code",
   "execution_count": null,
   "id": "ddfcb93b-e754-44ef-8c55-5f155aa5f757",
   "metadata": {},
   "outputs": [],
   "source": [
    "nx = new_particles[0,:]\n",
    "ny = new_particles[2,:]"
   ]
  },
  {
   "cell_type": "code",
   "execution_count": null,
   "id": "c22c1e39-b574-48e2-b8a6-4a7663c36f0e",
   "metadata": {},
   "outputs": [],
   "source": [
    "fig = plt.figure(figsize=(8,8))\n",
    "\n",
    "grid = plt.GridSpec(4, 4, hspace=0.2, wspace=0.2)\n",
    "main_ax = fig.add_subplot(grid[1:,:3])\n",
    "x_hist = fig.add_subplot(grid[0,:3], yticklabels=[], sharex=main_ax)\n",
    "y_hist = fig.add_subplot(grid[1:,3], xticklabels=[], sharey=main_ax)\n",
    "\n",
    "# scatter points on the main axes\n",
    "main_ax.scatter(x, y, s=1)#, 'ob', markersize=3, alpha=0.2)\n",
    "main_ax.scatter(nx, ny, s=1, c='r')#, 'ob', markersize=3, alpha=0.2)\n",
    "main_ax.set_xlabel(r'$x$', fontsize=30)\n",
    "main_ax.set_ylabel(r'$y$', fontsize=30)\n",
    "main_ax.grid()\n",
    "\n",
    "# histogram on the attached axes\n",
    "x_hist.hist(x, 100, histtype='step', orientation='vertical', color='b')\n",
    "y_hist.hist(y, 100, histtype='step', orientation='horizontal', color='b')\n",
    "\n",
    "x_hist.hist(nx, 100, histtype='step', orientation='vertical', color='r')\n",
    "y_hist.hist(ny, 100, histtype='step', orientation='horizontal', color='r')\n",
    "        \n",
    "plt.show()"
   ]
  },
  {
   "cell_type": "markdown",
   "id": "11c61f76-e9e7-436a-a2ab-610ac3e5ea3d",
   "metadata": {},
   "source": [
    "### Marker class"
   ]
  },
  {
   "cell_type": "code",
   "execution_count": null,
   "id": "7cab88b1-36a5-4751-8a26-037ddfa85bf4",
   "metadata": {},
   "outputs": [],
   "source": [
    "from elements import Marker"
   ]
  },
  {
   "cell_type": "code",
   "execution_count": null,
   "id": "46a3c8c6-15de-45d1-b823-d34c0397bc8c",
   "metadata": {},
   "outputs": [],
   "source": [
    "m1 = Marker(\"m1\", \"marker\")"
   ]
  },
  {
   "cell_type": "code",
   "execution_count": null,
   "id": "4ee1901f-3b55-42b5-8e26-308bb3f2ad48",
   "metadata": {},
   "outputs": [],
   "source": [
    "m1.print_properties()"
   ]
  },
  {
   "cell_type": "code",
   "execution_count": null,
   "id": "1cd9525e-efbf-4bd8-aa4e-3506726b46b3",
   "metadata": {},
   "outputs": [],
   "source": [
    "from beam import Bunch\n",
    "from matplotlib import pyplot as plt"
   ]
  },
  {
   "cell_type": "code",
   "execution_count": null,
   "id": "3723f602-52ca-4769-86b9-1208915cd355",
   "metadata": {},
   "outputs": [],
   "source": [
    "twiss_x = [-1.5, 10, 10]\n",
    "twiss_y = [1.5, 10, 10]\n",
    "\n",
    "bunch = Bunch('electron', 10, 4, 10000, twiss_x, twiss_y)\n",
    "particles = bunch.generate_transverse_matched_beam_distribution()"
   ]
  },
  {
   "cell_type": "code",
   "execution_count": null,
   "id": "cd60784f-8553-4dc9-bc0b-f2e12ca11560",
   "metadata": {},
   "outputs": [],
   "source": [
    "x = particles[0,:]\n",
    "y = particles[2,:]"
   ]
  },
  {
   "cell_type": "code",
   "execution_count": null,
   "id": "5cca0c5c-c5e9-4964-884a-baa2f16f9d39",
   "metadata": {},
   "outputs": [],
   "source": [
    "new_particles = m1.propagate(particles)"
   ]
  },
  {
   "cell_type": "code",
   "execution_count": null,
   "id": "27e69b42-bbd9-4c3e-a7eb-a902d347eb87",
   "metadata": {},
   "outputs": [],
   "source": [
    "new_particles.shape"
   ]
  },
  {
   "cell_type": "code",
   "execution_count": null,
   "id": "cac0780f-b589-406d-a614-f554d0199f7c",
   "metadata": {},
   "outputs": [],
   "source": [
    "nx = new_particles[0,:]\n",
    "ny = new_particles[2,:]"
   ]
  },
  {
   "cell_type": "code",
   "execution_count": null,
   "id": "d6c4ce8f-ce50-46d0-a95f-f46669bd34dc",
   "metadata": {
    "tags": []
   },
   "outputs": [],
   "source": [
    "fig = plt.figure(figsize=(8,8))\n",
    "\n",
    "grid = plt.GridSpec(4, 4, hspace=0.2, wspace=0.2)\n",
    "main_ax = fig.add_subplot(grid[1:,:3])\n",
    "x_hist = fig.add_subplot(grid[0,:3], yticklabels=[], sharex=main_ax)\n",
    "y_hist = fig.add_subplot(grid[1:,3], xticklabels=[], sharey=main_ax)\n",
    "\n",
    "# scatter points on the main axes\n",
    "main_ax.scatter(x, y, s=1)#, 'ob', markersize=3, alpha=0.2)\n",
    "main_ax.scatter(nx, ny, s=1, c='r')#, 'ob', markersize=3, alpha=0.2)\n",
    "main_ax.set_xlabel(r'$x$', fontsize=30)\n",
    "main_ax.set_ylabel(r'$y$', fontsize=30)\n",
    "main_ax.grid()\n",
    "\n",
    "# histogram on the attached axes\n",
    "x_hist.hist(x, 100, histtype='step', orientation='vertical', color='b')\n",
    "y_hist.hist(y, 100, histtype='step', orientation='horizontal', color='b')\n",
    "\n",
    "x_hist.hist(nx, 100, histtype='step', orientation='vertical', color='r')\n",
    "y_hist.hist(ny, 100, histtype='step', orientation='horizontal', color='r')\n",
    "        \n",
    "plt.show()"
   ]
  },
  {
   "cell_type": "markdown",
   "id": "6ef87882-2deb-47fe-b810-1f41c2cbcb78",
   "metadata": {},
   "source": [
    "## Aperture"
   ]
  },
  {
   "cell_type": "markdown",
   "id": "a3ab03fe-6782-4463-bebf-d5c3c1e018c5",
   "metadata": {
    "tags": []
   },
   "source": [
    "### Rectangular Aperture"
   ]
  },
  {
   "cell_type": "code",
   "execution_count": null,
   "id": "41a4766c-086c-47ca-8977-6b818caa7f33",
   "metadata": {},
   "outputs": [],
   "source": [
    "from elements.aperture import Rectangular_aperture as ra"
   ]
  },
  {
   "cell_type": "code",
   "execution_count": null,
   "id": "39abbe3e-af18-4c7b-a23d-80d0ec6b7fd4",
   "metadata": {},
   "outputs": [],
   "source": [
    "ra1 = ra([\"rectangular\", 10, 10])"
   ]
  },
  {
   "cell_type": "code",
   "execution_count": null,
   "id": "afa49f61-b309-4818-b4ed-32544414b471",
   "metadata": {},
   "outputs": [],
   "source": [
    "new_particles, lost = ra1.apply_rectangular_aperture(particles)"
   ]
  },
  {
   "cell_type": "code",
   "execution_count": null,
   "id": "b9cd14fe-6f73-47d7-a5fe-ec4943c3fc70",
   "metadata": {},
   "outputs": [],
   "source": [
    "print (particles.shape, new_particles.shape, lost)"
   ]
  },
  {
   "cell_type": "code",
   "execution_count": null,
   "id": "a61507b0-9ff5-4cbe-a4ce-2dda661d4be6",
   "metadata": {},
   "outputs": [],
   "source": [
    "nx2 = new_particles[0,:]\n",
    "ny2 = new_particles[2,:]"
   ]
  },
  {
   "cell_type": "code",
   "execution_count": null,
   "id": "10e02468-97d2-461f-84e2-5113933719e3",
   "metadata": {
    "tags": []
   },
   "outputs": [],
   "source": [
    "fig = plt.figure(figsize=(8,8))\n",
    "\n",
    "grid = plt.GridSpec(4, 4, hspace=0.2, wspace=0.2)\n",
    "main_ax = fig.add_subplot(grid[1:,:3])\n",
    "x_hist = fig.add_subplot(grid[0,:3], yticklabels=[], sharex=main_ax)\n",
    "y_hist = fig.add_subplot(grid[1:,3], xticklabels=[], sharey=main_ax)\n",
    "\n",
    "# scatter points on the main axes\n",
    "main_ax.scatter(x, y, s=1)#, 'ob', markersize=3, alpha=0.2)\n",
    "main_ax.scatter(nx2, ny2, s=1, c='r')#, 'ob', markersize=3, alpha=0.2)\n",
    "main_ax.set_xlabel(r'$x$', fontsize=30)\n",
    "main_ax.set_ylabel(r'$y$', fontsize=30)\n",
    "main_ax.grid()\n",
    "\n",
    "# histogram on the attached axes\n",
    "x_hist.hist(x, 100, histtype='step', orientation='vertical', color='b')\n",
    "y_hist.hist(y, 100, histtype='step', orientation='horizontal', color='b')\n",
    "\n",
    "x_hist.hist(nx2, 100, histtype='step', orientation='vertical', color='r')\n",
    "y_hist.hist(ny2, 100, histtype='step', orientation='horizontal', color='r')\n",
    "        \n",
    "plt.show()"
   ]
  },
  {
   "cell_type": "markdown",
   "id": "4d20daf3-0a1b-41e0-a1ee-2ea32aebe12f",
   "metadata": {},
   "source": [
    "### Circular Aperture"
   ]
  },
  {
   "cell_type": "code",
   "execution_count": null,
   "id": "092b8fa2-07fd-4689-b090-938d49093688",
   "metadata": {},
   "outputs": [],
   "source": [
    "from elements.aperture import Circular_aperture as ca"
   ]
  },
  {
   "cell_type": "code",
   "execution_count": null,
   "id": "39bf6532-b7fa-4c36-8d0b-d1e9ed4e26e0",
   "metadata": {},
   "outputs": [],
   "source": [
    "ca1 = ca([\"circular\", 10])"
   ]
  },
  {
   "cell_type": "code",
   "execution_count": null,
   "id": "94760a75-8466-44d5-a8f1-643c2fbdc53e",
   "metadata": {},
   "outputs": [],
   "source": [
    "new_particles, lost = ca1.apply_circular_aperture(particles)"
   ]
  },
  {
   "cell_type": "code",
   "execution_count": null,
   "id": "46eb7c4e-1eee-4ec8-b72e-70be29dbdfd2",
   "metadata": {},
   "outputs": [],
   "source": [
    "print (particles.shape, new_particles.shape, lost)"
   ]
  },
  {
   "cell_type": "code",
   "execution_count": null,
   "id": "2c1da2d9-0339-4eca-9193-d1a3dc37d83b",
   "metadata": {},
   "outputs": [],
   "source": [
    "nx2 = new_particles[0,:]\n",
    "ny2 = new_particles[2,:]"
   ]
  },
  {
   "cell_type": "code",
   "execution_count": null,
   "id": "121b0655-ef62-46de-85d2-19354cc0e783",
   "metadata": {
    "tags": []
   },
   "outputs": [],
   "source": [
    "fig = plt.figure(figsize=(8,8))\n",
    "\n",
    "grid = plt.GridSpec(4, 4, hspace=0.2, wspace=0.2)\n",
    "main_ax = fig.add_subplot(grid[1:,:3])\n",
    "x_hist = fig.add_subplot(grid[0,:3], yticklabels=[], sharex=main_ax)\n",
    "y_hist = fig.add_subplot(grid[1:,3], xticklabels=[], sharey=main_ax)\n",
    "\n",
    "# scatter points on the main axes\n",
    "main_ax.scatter(x, y, s=1)#, 'ob', markersize=3, alpha=0.2)\n",
    "main_ax.scatter(nx2, ny2, s=1, c='r')#, 'ob', markersize=3, alpha=0.2)\n",
    "main_ax.set_xlabel(r'$x$', fontsize=30)\n",
    "main_ax.set_ylabel(r'$y$', fontsize=30)\n",
    "main_ax.grid()\n",
    "\n",
    "# histogram on the attached axes\n",
    "x_hist.hist(x, 100, histtype='step', orientation='vertical', color='b')\n",
    "y_hist.hist(y, 100, histtype='step', orientation='horizontal', color='b')\n",
    "\n",
    "x_hist.hist(nx2, 100, histtype='step', orientation='vertical', color='r')\n",
    "y_hist.hist(ny2, 100, histtype='step', orientation='horizontal', color='r')\n",
    "        \n",
    "plt.show()"
   ]
  },
  {
   "cell_type": "code",
   "execution_count": null,
   "id": "43f624c6-61c2-4d38-a6c9-051556cf3fe8",
   "metadata": {},
   "outputs": [],
   "source": []
  },
  {
   "cell_type": "code",
   "execution_count": null,
   "id": "e38c445d-b44d-4445-8880-63b5bc62c83d",
   "metadata": {},
   "outputs": [],
   "source": []
  }
 ],
 "metadata": {
  "kernelspec": {
   "display_name": "Python 3 (ipykernel)",
   "language": "python",
   "name": "python3"
  },
  "language_info": {
   "codemirror_mode": {
    "name": "ipython",
    "version": 3
   },
   "file_extension": ".py",
   "mimetype": "text/x-python",
   "name": "python",
   "nbconvert_exporter": "python",
   "pygments_lexer": "ipython3",
   "version": "3.9.13"
  }
 },
 "nbformat": 4,
 "nbformat_minor": 5
}
