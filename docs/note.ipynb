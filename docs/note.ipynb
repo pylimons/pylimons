{
 "cells": [
  {
   "cell_type": "markdown",
   "id": "82f984d2",
   "metadata": {},
   "source": [
    "# Prerequisite for pylimons"
   ]
  },
  {
   "cell_type": "markdown",
   "id": "1e3f2a26",
   "metadata": {},
   "source": [
    "## Preparation of Development Environment"
   ]
  },
  {
   "cell_type": "markdown",
   "id": "e36bc7fd",
   "metadata": {},
   "source": [
    "Conda package management is preferred, but other development environment is ok. Using conda\n",
    "\n",
    "`conda create -n pylimons python=3.9`\n",
    "\n",
    "`conda install numpy`\n",
    "\n",
    "`conda install scipy`\n",
    "\n",
    "`conda install pytables`\n",
    "\n",
    "`conda install h5py`\n",
    "\n",
    "`conda install pytest`\n",
    "\n",
    "`conda install matplotlib`\n",
    "\n",
    "`conda install git`"
   ]
  },
  {
   "cell_type": "markdown",
   "id": "4925fd52-be36-4575-bb1d-7042f2981e85",
   "metadata": {},
   "source": [
    "FYI, my current versions of the above packages are:\n",
    "\n",
    "`numpy` 1.23.4\n",
    "\n",
    "`scipy` 1.9.3\n",
    "\n",
    "`tables` 3.7.0\n",
    "\n",
    "`pytest` 7.2.0\n",
    "\n",
    "`matplotlib` 3.6.1\n",
    "\n",
    "`git` 2.38.1"
   ]
  },
  {
   "cell_type": "markdown",
   "id": "26d30c45",
   "metadata": {},
   "source": [
    "## Version control"
   ]
  },
  {
   "cell_type": "markdown",
   "id": "6d4fbf20",
   "metadata": {},
   "source": [
    "We will use `git` as the version control system. The `git` repostory is already created in github.com. \n",
    "\n"
   ]
  },
  {
   "cell_type": "markdown",
   "id": "c7d05b56-e3c6-47cb-ab91-453f162351f1",
   "metadata": {},
   "source": [
    "In order to commit your additions and changes, you need to set your own git configuration, for example:\n",
    "\n",
    "`git config <--global> user.name \"<Your Name>\"`\n",
    "\n",
    "`git config <--global> user.email \"<Your email address>\"`"
   ]
  },
  {
   "cell_type": "markdown",
   "id": "dcdd2660-9580-4956-a6cf-aa49a27823d4",
   "metadata": {},
   "source": [
    "## Clone the pylimons repositry\n",
    "\n",
    "`git clone https://github.com/pylimons/pylimons.git`\n",
    "\n",
    "After cloning the repository, create your own branch\n",
    "\n",
    "`git checkout -b <branch_name>`"
   ]
  },
  {
   "cell_type": "markdown",
   "id": "70df3f33-b17d-4bd6-a055-e2c70a6a3f84",
   "metadata": {},
   "source": [
    "## Authenticating with Github"
   ]
  },
  {
   "cell_type": "markdown",
   "id": "dcda3bee-df34-4d3c-8472-36f9eeb4ca93",
   "metadata": {},
   "source": [
    "Read the following document for pushing commits/changes to the github repository.\n",
    "\n",
    "https://mgimond.github.io/Colby-summer-git-workshop-2021/authenticating-with-github.html"
   ]
  },
  {
   "cell_type": "markdown",
   "id": "1a1ea0f6-6454-406c-8a22-5249adbcf97d",
   "metadata": {},
   "source": [
    "After creating a personal authentication token, type the following command first\n",
    "\n",
    "```git config credential.helper store```\n",
    "\n",
    "Then, your token will be **permanently** stored in the `~/.git-credential` file."
   ]
  },
  {
   "cell_type": "code",
   "execution_count": null,
   "id": "4493d3aa-b690-490c-a2f7-43c99567feb4",
   "metadata": {},
   "outputs": [],
   "source": []
  }
 ],
 "metadata": {
  "kernelspec": {
   "display_name": "Python 3 (ipykernel)",
   "language": "python",
   "name": "python3"
  },
  "language_info": {
   "codemirror_mode": {
    "name": "ipython",
    "version": 3
   },
   "file_extension": ".py",
   "mimetype": "text/x-python",
   "name": "python",
   "nbconvert_exporter": "python",
   "pygments_lexer": "ipython3",
   "version": "3.9.13"
  }
 },
 "nbformat": 4,
 "nbformat_minor": 5
}
