{
 "cells": [
  {
   "cell_type": "markdown",
   "id": "82f984d2",
   "metadata": {},
   "source": [
    "# Prerequisite for pylimons"
   ]
  },
  {
   "cell_type": "markdown",
   "id": "1e3f2a26",
   "metadata": {},
   "source": [
    "## Preparation of Development Environment"
   ]
  },
  {
   "cell_type": "markdown",
   "id": "e36bc7fd",
   "metadata": {},
   "source": [
    "Conda package management is preferred, but other development environment is ok. Using conda\n",
    "\n",
    "`conda create -n pylimons python=3.9`\n",
    "\n",
    "`conda install numpy`\n",
    "\n",
    "`conda install scipy`\n",
    "\n",
    "`conda install pytables`\n",
    "\n",
    "`conda install h5py`\n",
    "\n",
    "`conda install pytest`\n",
    "\n",
    "`conda install matplotlib`\n",
    "\n",
    "`conda install git`"
   ]
  },
  {
   "cell_type": "markdown",
   "id": "4925fd52-be36-4575-bb1d-7042f2981e85",
   "metadata": {},
   "source": [
    "FYI, my current versions of the above packages are:\n",
    "\n",
    "`numpy` 1.23.4\n",
    "\n",
    "`scipy` 1.9.3\n",
    "\n",
    "`tables` 3.7.0\n",
    "\n",
    "`pytest` 7.2.0\n",
    "\n",
    "`matplotlib` 3.6.1\n",
    "\n",
    "`git` 2.38.1"
   ]
  },
  {
   "cell_type": "markdown",
   "id": "26d30c45",
   "metadata": {},
   "source": [
    "## Version control"
   ]
  },
  {
   "cell_type": "markdown",
   "id": "6d4fbf20",
   "metadata": {},
   "source": [
    "We will use `git` as the version control system. The `git` repostory is already created in github.com. \n",
    "\n"
   ]
  },
  {
   "cell_type": "markdown",
   "id": "73c4ad67",
   "metadata": {},
   "source": [
    "## Authenticating with Github"
   ]
  },
  {
   "cell_type": "markdown",
   "id": "7713d737",
   "metadata": {},
   "source": [
    "Read the following document for pushing commits/changes to the github repository.\n",
    "\n",
    "https://mgimond.github.io/Colby-summer-git-workshop-2021/authenticating-with-github.html"
   ]
  },
  {
   "cell_type": "markdown",
   "id": "2e6d3071",
   "metadata": {},
   "source": [
    "After creating a personal authentication token, type the following command first\n",
    "\n",
    "```git config credential.helper store```\n",
    "\n",
    "Then, your token will be **permanently** stored in the `~/.git-credential` file."
   ]
  },
  {
   "cell_type": "code",
   "execution_count": null,
   "id": "958faca5-1440-4fe5-9e3b-2d63d2b55370",
   "metadata": {},
   "outputs": [],
   "source": []
  }
 ],
 "metadata": {
  "kernelspec": {
   "display_name": "Python 3 (ipykernel)",
   "language": "python",
   "name": "python3"
  },
  "language_info": {
   "codemirror_mode": {
    "name": "ipython",
    "version": 3
   },
   "file_extension": ".py",
   "mimetype": "text/x-python",
   "name": "python",
   "nbconvert_exporter": "python",
   "pygments_lexer": "ipython3",
   "version": "3.9.13"
  }
 },
 "nbformat": 4,
 "nbformat_minor": 5
}
